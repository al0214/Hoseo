{
 "cells": [
  {
   "cell_type": "markdown",
   "metadata": {},
   "source": [
    "## 9월 2일 수업"
   ]
  },
  {
   "cell_type": "code",
   "execution_count": 3,
   "metadata": {},
   "outputs": [],
   "source": [
    "a = 200\n",
    "b = 100"
   ]
  },
  {
   "cell_type": "code",
   "execution_count": null,
   "metadata": {},
   "outputs": [],
   "source": [
    "a-b"
   ]
  },
  {
   "cell_type": "code",
   "execution_count": 10,
   "metadata": {},
   "outputs": [],
   "source": [
    "def tri(height: float, weight:float):\n",
    "    \"\"\"\n",
    "    height는 높이\n",
    "    weight는 넓이\n",
    "    \"\"\"\n",
    "    return height*weight/2"
   ]
  },
  {
   "cell_type": "code",
   "execution_count": null,
   "metadata": {},
   "outputs": [],
   "source": [
    "print(tri(10, 10))"
   ]
  },
  {
   "cell_type": "code",
   "execution_count": null,
   "metadata": {},
   "outputs": [],
   "source": [
    "name = input(\"이름을 입력하시오 : \")\n",
    "print(f'{name} 씨, 안녕하세요?\\n파이썬에 오신 것을 환영합니다.')\n",
    "a = input(\"첫 번째 점수를 입력하시오 : \")\n",
    "b = input(\"두 번째 점수를 입력하시오 : \")\n",
    "print(f'{a}와 {b}의 합은 {int(a)+int(b)}입니다.')\n"
   ]
  },
  {
   "cell_type": "code",
   "execution_count": null,
   "metadata": {},
   "outputs": [],
   "source": [
    "import turtle\n",
    "t = turtle.Turtle()\n",
    "t.shape(\"turtle\")\n",
    "def turtle_draw(weight):\n",
    "    for i in range(0, 3):\n",
    "        t.forward(weight)\n",
    "        t.left(90)\n",
    "turtle.done()\n",
    "\n",
    "    "
   ]
  },
  {
   "cell_type": "code",
   "execution_count": null,
   "metadata": {},
   "outputs": [],
   "source": [
    "a =int(input(\"닭의 마리 수를 입력하세요 : \"))\n",
    "b =int(input(\"돼지의 마리 수를 입력하세요 : \"))\n",
    "c =int(input(\"소의 마리 수를 입력하세요 : \"))\n",
    "\n",
    "print(f\"전체 다리 수는 {(a*2)+((b+c)*4)}\")"
   ]
  },
  {
   "cell_type": "code",
   "execution_count": null,
   "metadata": {},
   "outputs": [],
   "source": [
    "a =int(input(\"상품의 가격 : \"))\n",
    "b =int(input(\"상품의 계수 : \"))\n",
    "c =int(input(\"부사세(%) : \"))\n",
    "d = int(input(\"배송료 : \"))\n",
    "\n",
    "print(f'전체 가격 = {(a*b)+(a*b)*(c/100)+d}')"
   ]
  },
  {
   "cell_type": "code",
   "execution_count": 20,
   "metadata": {},
   "outputs": [],
   "source": [
    "a = 10\n",
    "b = 20\n",
    "\n",
    "c = a\n",
    "a = b\n",
    "b = c"
   ]
  },
  {
   "cell_type": "code",
   "execution_count": null,
   "metadata": {},
   "outputs": [],
   "source": [
    "print(a)\n",
    "print(b)"
   ]
  },
  {
   "cell_type": "markdown",
   "metadata": {},
   "source": [
    "## 9월 9일 수업"
   ]
  },
  {
   "cell_type": "code",
   "execution_count": null,
   "metadata": {},
   "outputs": [],
   "source": [
    "print(10 % 6)\n",
    "print(10/6)\n",
    "print(10**3)"
   ]
  },
  {
   "cell_type": "code",
   "execution_count": null,
   "metadata": {},
   "outputs": [],
   "source": [
    "milk = int(input(\"판매된 우유의 개수 : \"))\n",
    "cola = int(input(\"판매된 콜라의 개수 : \"))\n",
    "kimBab = int(input(\"판매된 김밥의 개수 : \"))\n",
    "\n",
    "print(f\"오늘 총 매출은 {(milk*2000)+(cola*3000)+(kimBab*3500)}원 입니다.\")"
   ]
  },
  {
   "cell_type": "code",
   "execution_count": null,
   "metadata": {},
   "outputs": [],
   "source": [
    "korLang = int(input(\"한국 점수 : \"))\n",
    "mathLang = int(input(\"수학 점수 : \"))\n",
    "engLang = int(input(\"영어 점수 : \"))\n",
    "print(f'평균 성적은 {float((korLang+mathLang+engLang)/3):0.2f}점 입니다.')"
   ]
  },
  {
   "cell_type": "code",
   "execution_count": null,
   "metadata": {},
   "outputs": [],
   "source": [
    "def recvMoney(charge):\n",
    "    print(f\"10000원 지폐의 개수 : {charge//10000}\")\n",
    "    charge %= 10000\n",
    "    print(f\"5000원 지폐의 개수 : {charge//5000}\")\n",
    "    charge %= 5000\n",
    "    print(f\"1000원 지폐의 개수 : {charge//1000}\")\n",
    "    charge %= 1000\n",
    "    print(f\"500원 지폐의 개수 : {charge//500}\")\n",
    "    charge %= 500\n",
    "    print(f\"100원 지폐의 개수 : {charge//100}\")\n",
    "    charge %= 100\n",
    "    print(f\"50원 지폐의 개수 : {charge//50}\")\n",
    "    charge %= 50\n",
    "\n",
    "price = int(input(\"상품의 가격 : \"))\n",
    "num = int(input(\"상품의 개수 : \"))\n",
    "\n",
    "total = price * num\n",
    "\n",
    "tax = round(total * 0.1)\n",
    "print(f\"세금(10%) : {tax}\")\n",
    "\n",
    "service = round(total * 0.05)\n",
    "print(f\"봉사료(5%) : {service}\")\n",
    "\n",
    "total += tax + service\n",
    "print(f'전체 가격 : {total}')\n",
    "\n",
    "recv = int(input(\"\\n 받은 금액 : \"))\n",
    "print(f\"\\n받은 금액 : {recv}\")\n",
    "\n",
    "charge = recv - total\n",
    "print(f\"\\n거스름돈 : {charge}\")\n",
    "\n",
    "recvMoney(charge)\n"
   ]
  },
  {
   "cell_type": "code",
   "execution_count": null,
   "metadata": {},
   "outputs": [],
   "source": [
    "price = 20000\n",
    "if(price > 20000):\n",
    "    shipment = 0\n",
    "else:\n",
    "    shipment = 3000\n",
    "\n",
    "print(shipment)"
   ]
  },
  {
   "cell_type": "code",
   "execution_count": 20,
   "metadata": {},
   "outputs": [],
   "source": [
    "# 연봉은 만원 단위이다.\n",
    "# (1000 if year >= 25 and yearPay >= 3500 else 3000)\n"
   ]
  },
  {
   "cell_type": "code",
   "execution_count": null,
   "metadata": {},
   "outputs": [],
   "source": [
    "import random\n",
    "\n",
    "print(f\"동전 던지기 게임을 시작합니다. \\n{'앞면입니다.' if random.randint(1, 2) == 1 else '뒷면입니다.'} \\n게임이 종료되었습니다.\")\n",
    "\n"
   ]
  },
  {
   "cell_type": "code",
   "execution_count": null,
   "metadata": {},
   "outputs": [],
   "source": [
    "print(\"행운의 매직볼로 오늘의 운세를 출력합니다.\")\n",
    "\n",
    "answer = random.randint(1, 8)\n",
    "\n",
    "if(answer== 1):\n",
    "    print(\"확실히 이루어 집니다.\")\n",
    "elif(answer == 2):\n",
    "    print(\"좋아 보이네요\")\n",
    "elif(answer == 3):\n",
    "    print(\"믿으셔도 됩니다.\")\n",
    "elif(answer == 4):\n",
    "    print(\"저의 생각에는 no 입니다.\")\n",
    "else:\n",
    "    print(\"다시 질문해 주세요\")\n",
    "\n",
    "\n"
   ]
  },
  {
   "cell_type": "code",
   "execution_count": null,
   "metadata": {},
   "outputs": [],
   "source": [
    "import random\n",
    "\n",
    "c = 1\n",
    "\n",
    "while(c != 0):\n",
    "   \n",
    "\n",
    "    b = random.randint(1, 3)\n",
    "\n",
    "    print(\"\\n가위바위보게임을 시작합니다.\\n\")\n",
    "\n",
    "    a = int(input(\"가위바위보(가위:1, 바위:2, 보:3) : \"))\n",
    "    print(f'컴퓨터 : 가위바위보(가위:1, 바위:2, 보:3) : {a}')\n",
    "    print(f'컴퓨터 : 가위바위보(가위:1, 바위:2, 보:3) : {b}')\n",
    "\n",
    "    if(a==b):\n",
    "        print(\"\\n 비겼습니다.\\n\")\n",
    "    elif((a==1 and b==2)or(a==2 and b==3)or(a==3 and b==1)):\n",
    "        print(\"\\n졌습니다.\\n\")\n",
    "    else:\n",
    "        print(\"\\n이겼습니다.\\n\")\n",
    "    \n",
    "    c = int(input(\"게임을 계속 하실려면 1 아니면 0을 입력하여 주세요\"))\n"
   ]
  },
  {
   "cell_type": "code",
   "execution_count": null,
   "metadata": {},
   "outputs": [],
   "source": [
    "import random\n",
    "\n",
    "print(\"컴퓨터가 당신이 생각하는 숫자즐 알아 맞히는 게임입니다.\\n하나의 숫자를 생각하세요\\n컴퓨터가 제시한 숫자보다 정답이 높으면 High, 낮으면, Low라고 하세요.\\n컴퓨터가 숫자를 맞추면 yes라고 하세요.\")\n",
    "\n",
    "currentAnswer = random.randint(1, 100)\n",
    "\n",
    "print(f\"정답은 {currentAnswer}입니다. \\n\")\n",
    "\n",
    "i = 0\n",
    "\n",
    "randNumber = random.randint(1,100)\n",
    "\n",
    "a = input(f'숫자가 {randNumber}인가요? ')\n",
    "\n",
    "min_vlaue = 1\n",
    "max_value = 100\n",
    "\n",
    "while(a != 'yes'):\n",
    "    a = input(f'숫자가 {(max_value+min_vlaue)//2}인가요? ')\n",
    "    if(a == \"low\"):\n",
    "        min_vlaue = (max_value+min_vlaue) // 2\n",
    "        \n",
    "    elif(a == \"High\"):\n",
    "        max_value = (max_value+min_vlaue) // 2\n",
    "    else:\n",
    "        print(\"잘못된 입력입니다.\")\n"
   ]
  },
  {
   "cell_type": "code",
   "execution_count": null,
   "metadata": {},
   "outputs": [],
   "source": [
    "a = input(\"정수를 입력하시요 : \")\n",
    "\n",
    "for i in range(0, int(a)+1):\n",
    "    for j in range(0, i):\n",
    "        print(j+1, end=\" \")\n",
    "    print(\"\")"
   ]
  },
  {
   "cell_type": "code",
   "execution_count": 17,
   "metadata": {},
   "outputs": [],
   "source": [
    "result = 0\n",
    "\n",
    "a = input(\"n의 값을 입력하시오 : \")"
   ]
  },
  {
   "cell_type": "code",
   "execution_count": null,
   "metadata": {},
   "outputs": [],
   "source": [
    "for i in range(0, 51):\n",
    "    if(i % 2 == 0):\n",
    "        print(i, end=\" \")"
   ]
  },
  {
   "cell_type": "code",
   "execution_count": null,
   "metadata": {},
   "outputs": [],
   "source": [
    "result = 0\n",
    "a  = int(input(\"n의 값을 입력하세요 : \"))\n",
    "for i in range(1, a+1):\n",
    "    result += i*i\n",
    "    \n",
    "print(f'계산값은 {result}입니다.')"
   ]
  },
  {
   "cell_type": "code",
   "execution_count": null,
   "metadata": {},
   "outputs": [],
   "source": [
    "a  = int(input(\"첫 번째 정수를 입력하세요 : \"))\n",
    "b  = int(input(\"두 번째 정수를 입력하세요 : \"))\n",
    "\n",
    "for k in range(1, a+b):\n",
    "    if(a%k == 0 and b%k == 0):\n",
    "        i = k\n",
    "\n",
    "print(f'{a}와 {b}의 최대 공약수는 {i}')"
   ]
  },
  {
   "cell_type": "code",
   "execution_count": null,
   "metadata": {},
   "outputs": [],
   "source": [
    "i = 0\n",
    "while(i != 1):\n",
    "    a = int(input(\"1. 섭씨 온도 -> 화씨온도\\n2. 화씨 온도 -> 섭씨 온도\\n3. 종료\\n메뉴를 선택하세요 : \"))\n",
    "\n",
    "    if(a == 1):\n",
    "        degree = float(input(\"섭씨 온도를 입력해주세요 : \"))\n",
    "        print(f'화씨 온도는 -> {(degree * 9/5)+ 32}')\n",
    "    elif(a == 2):\n",
    "        degree = float(input(\"화씨 온도를 입력해주세요 : \"))\n",
    "        print(f'화씨 온도는 -> {(degree-32)*5/9}')\n",
    "    elif(a==3):\n",
    "        i = 1\n",
    "    else:\n",
    "        print(\"잘못된 입력입니다.\")\n"
   ]
  },
  {
   "cell_type": "code",
   "execution_count": null,
   "metadata": {},
   "outputs": [],
   "source": [
    "def moneyAdd(moneyCount: int,money: int):\n",
    "    moneyCount += money\n",
    "    return moneyCount\n",
    "\n",
    "def moneyOut(moneyCount: int, money: int) -> bool: \n",
    "    if moneyCount < money:\n",
    "        print(\"돈이 부족합니다.\")\n",
    "        return False\n",
    "    else:\n",
    "        moneyCount -= money\n",
    "        return moneyCount\n",
    "\n",
    "def moneyGoToAny(moneyCount: int, name: str, money: int) -> bool:\n",
    "    if moneyCount < money:\n",
    "        print(\"돈이 부족합니다.\")\n",
    "        return False\n",
    "    else:\n",
    "        moneyCount -= money\n",
    "        return moneyCount\n",
    "\n",
    "def moneyStart():\n",
    "    moneyCount: int = 0\n",
    "    passwordInit: int = 0\n",
    "    truePassword: int = 0\n",
    "    startNumber: int = 1\n",
    "    while(startNumber != 0):\n",
    "        if(passwordInit != 0):\n",
    "            truePassword =  (int(input(\"비밀 번호 입력 : \")))\n",
    "            if(truePassword == passwordInit):\n",
    "                number: int = 0\n",
    "                while(number !=4):\n",
    "                    number = int(input(\"1- 잔액보기, 2- 인출, 3- 저금, 4-종료\"))\n",
    "                    if(number == 1):\n",
    "                        if(moneyCount == 0): print(\"잔액이 없습니다.\")\n",
    "                        else: print(f'잔액은 {moneyCount} 입니다.')\n",
    "                    elif(number == 2):\n",
    "                        money = int(input(\"돈을 얼마나 인출하실 건가요? : \"))\n",
    "                        a = moneyOut(moneyCount=moneyCount,money=money)\n",
    "                        moneyCount = a if a != False else moneyCount=moneyCount\n",
    "                    elif(number == 3):\n",
    "                        money = int(input(\"돈을 얼마나 저금하실 건가요? : \"))\n",
    "                        a = moneyAdd(moneyCount=moneyCount,money=money) \n",
    "                        if(a != False):\n",
    "                            moneyCount = a\n",
    "                            print(f'현재 입금된 돈은 {moneyCount}원 입니다.')\n",
    "                    elif(number == 4):\n",
    "                        startNumber = 0\n",
    "                    else:\n",
    "                        print(\"잘못된 입력입니다.\")\n",
    "            else:\n",
    "                print(\"비밀번호가 틀렸습니다.\")\n",
    "        elif(passwordInit == 0):\n",
    "            passwordInit = int(input(\"생성할 비밀번호를 입력하여 주세요 : \"))\n",
    "    \n",
    "\n",
    "\n",
    "\n",
    "\n",
    "def main():\n",
    "    moneyStart()\n",
    "\n",
    "if __name__ == \"__main__\":\n",
    "    main()"
   ]
  },
  {
   "cell_type": "code",
   "execution_count": 3,
   "metadata": {},
   "outputs": [],
   "source": [
    "li = [10.0, 9.0, 8.3, 7.1, 3.0, 9.0]\n",
    "li.remove(min(li))\n",
    "li.remove(max(li))"
   ]
  },
  {
   "cell_type": "code",
   "execution_count": null,
   "metadata": {},
   "outputs": [],
   "source": [
    "li"
   ]
  },
  {
   "cell_type": "code",
   "execution_count": null,
   "metadata": {},
   "outputs": [],
   "source": [
    "li = []\n",
    "\n",
    "for i in range(0, 5):\n",
    "    int(input(\"성적을 입려하세요\"))"
   ]
  },
  {
   "cell_type": "code",
   "execution_count": null,
   "metadata": {},
   "outputs": [],
   "source": [
    "probabilty = 30 # percentage\n",
    "col_num = 10\n",
    "row_num = 10\n",
    "\n",
    "import random\n",
    "matrix = [[\"#\" if random.randint(1, 100) < probabilty else '.' \\\n",
    "           for col in range(col_num)] for row in range(row_num)]\n",
    "\n",
    "def set_count(row, col):\n",
    "    global matrix\n",
    "\n",
    "    if row >= row_num or row < 0:\n",
    "        return\n",
    "    if col >= col_num or col < 0:\n",
    "        return\n",
    "    \n",
    "    if matrix[row][col] == '.':\n",
    "        matrix[row][col] = 1\n",
    "    elif matrix[row][col] == '#':\n",
    "        pass\n",
    "    else:\n",
    "        matrix[row][col] += 1\n",
    "\n",
    "for i in range(row_num):\n",
    "    for j in range(len(matrix[i])):\n",
    "        if matrix[i][j] == \"#\":\n",
    "            set_count(i-1, j)\n",
    "            set_count(i+1, j)\n",
    "            set_count(i, j-1)\n",
    "            set_count(i, j+1)\n",
    "            set_count(i-1, j-1)\n",
    "            set_count(i+1, j+1)\n",
    "            set_count(i+1, j-1)\n",
    "            set_count(i-1, j+1)\n",
    "\n",
    "for row in matrix:\n",
    "    for cell in row:\n",
    "        print(cell, end=\" \")\n",
    "    print()\n"
   ]
  },
  {
   "cell_type": "code",
   "execution_count": null,
   "metadata": {},
   "outputs": [],
   "source": [
    "a = [1, 2, 3, 4]\n",
    "b = a[0]\n",
    "for i in range(1, len(a)):\n",
    "    b *= a[i]\n",
    "b"
   ]
  },
  {
   "cell_type": "code",
   "execution_count": null,
   "metadata": {},
   "outputs": [],
   "source": [
    "a = [10, 20, 30, 20, 10, 50, 60]\n",
    "b = []\n",
    "for i in a:\n",
    "    if i not in b:\n",
    "        b.append(i)\n",
    "b\n",
    "    "
   ]
  },
  {
   "cell_type": "code",
   "execution_count": 98,
   "metadata": {},
   "outputs": [],
   "source": [
    "a = [5, 10, 15, 20, 25]\n",
    "for i in range(0, len(a)):\n",
    "    if a[i] == 10:\n",
    "        a[i] = 100\n",
    "        break\n",
    "a"
   ]
  },
  {
   "cell_type": "code",
   "execution_count": null,
   "metadata": {},
   "outputs": [],
   "source": [
    "a = [5, 10, 15, 10, 25]\n",
    "j = len(a)\n",
    "for i in range(len(a)-1, 0, -1):\n",
    "    if a[i] == 10:\n",
    "        a.pop(i)\n",
    "a"
   ]
  },
  {
   "cell_type": "code",
   "execution_count": null,
   "metadata": {},
   "outputs": [],
   "source": [
    "a = [1, 2,3, 4, 5]\n",
    "\n",
    "for i in range(0, len(a)):\n",
    "    a[i] = a[i] * a[i]\n",
    "a"
   ]
  },
  {
   "cell_type": "code",
   "execution_count": null,
   "metadata": {},
   "outputs": [],
   "source": [
    "import random\n",
    "\n",
    "values = []\n",
    "\n",
    "for i in range(0, 10):\n",
    "    values.append(random.randint(0, 100))\n",
    "\n",
    "values"
   ]
  },
  {
   "cell_type": "code",
   "execution_count": null,
   "metadata": {},
   "outputs": [],
   "source": [
    "a = [20, 1, 12, 9, 18]\n",
    "\n",
    "for i in a:\n",
    "    print(f'{i} {\"*\" * i}')\n"
   ]
  },
  {
   "cell_type": "code",
   "execution_count": null,
   "metadata": {},
   "outputs": [],
   "source": [
    "a = ['aba', 'xyz', 'abc', '121']\n",
    "same = 0\n",
    "\n",
    "for i in range(0, len(a)):\n",
    "    start = a[i][0]\n",
    "    end = a[i][-1]\n",
    "\n",
    "    if start == end:\n",
    "        same += 1\n",
    "print(f'문자열의 개수 = {same}')"
   ]
  },
  {
   "cell_type": "code",
   "execution_count": null,
   "metadata": {},
   "outputs": [],
   "source": [
    "list1 = [i for i in range(1, 7)]\n",
    "list2 = [i for i in range(6, 11)]\n",
    "\n",
    "for i in list1:\n",
    "    for j in list2:\n",
    "        if i == j:\n",
    "            print(True)\n",
    "            break"
   ]
  },
  {
   "cell_type": "code",
   "execution_count": null,
   "metadata": {},
   "outputs": [],
   "source": [
    "import random\n",
    "list= [f'a{i}' for i in range(0, 10)]\n",
    "print(random.choice(list))"
   ]
  },
  {
   "cell_type": "code",
   "execution_count": null,
   "metadata": {},
   "outputs": [],
   "source": [
    "a = [i for i in range(1, 6)]\n",
    "b = [1, 3, 3, 4, 5, 6, 7]\n",
    "c = []\n",
    "for i in a:\n",
    "    for j in b:\n",
    "        if i == j:\n",
    "            if j not in c:\n",
    "                c.append(j)\n",
    "c"
   ]
  },
  {
   "cell_type": "code",
   "execution_count": 1,
   "metadata": {},
   "outputs": [],
   "source": [
    "three_d_list = [[[(i, j, k) for k in range(5)] for j in range(4)] for i in range(3)]"
   ]
  },
  {
   "cell_type": "code",
   "execution_count": null,
   "metadata": {},
   "outputs": [],
   "source": [
    "[[[\"#\" for i in range(5)] for i in range(4)] for i in range(3)]"
   ]
  },
  {
   "cell_type": "code",
   "execution_count": null,
   "metadata": {},
   "outputs": [],
   "source": [
    "a = [[\"0\" for i in range(10)] for i in range(10)]\n",
    "\n",
    "look = True\n",
    "\n",
    "row = 0\n",
    "col = 0\n",
    "\n",
    "while(look):\n",
    "\n",
    "    print(f'{\"-\" * 35}')\n",
    "    print(f'  1   2   3   4   5   6   7   8   9   10')\n",
    "    print(f'{\"-\" * 35}')\n",
    "    for i in range(10):\n",
    "        for j in range(10):\n",
    "            print(f'   {a[i][j]}', end=\"\")\n",
    "        print(\"\\n\")\n",
    "\n",
    "    row = int(input(\"원하시는 좌석의 행 번호를 입력하세요(종료는 -1): \"))\n",
    "    if (row == -1):\n",
    "        look = False\n",
    "        break\n",
    "    col = int(input('원하시는 좌석의 열 번호를 입력하세요(종료는 -1): '))\n",
    "    if (col == -1):\n",
    "        look = False\n",
    "        break\n",
    "\n",
    "    if(a[row -1][col -1] != 0):\n",
    "        a[row-1][col-1] = 1\n",
    "        print(\"예약되었습니다.\")\n",
    "    else:\n",
    "        print(\"이미 예약된 좌석입니다.\")\n",
    "\n",
    "    "
   ]
  },
  {
   "cell_type": "code",
   "execution_count": null,
   "metadata": {},
   "outputs": [],
   "source": [
    "import random\n",
    "randomNumber = [random.randint(0, 1) for _ in range(10)]\n",
    "\n",
    "\n",
    "frontNumber = randomNumber[0]\n",
    "\n",
    "count = 0\n",
    "max_count = 0\n",
    "\n",
    "for i in range(1, len(randomNumber)):\n",
    "    if (frontNumber == randomNumber[i]):\n",
    "        count += 1\n",
    "    else:\n",
    "        frontNumber = randomNumber[i]\n",
    "        if(max_count <= count):\n",
    "            max_count = count\n",
    "        else :\n",
    "            continue\n",
    "        count = 1\n",
    "\n",
    "print(randomNumber)\n",
    "print(f'최대 연속 길이 = {max_count}')\n"
   ]
  },
  {
   "cell_type": "code",
   "execution_count": 57,
   "metadata": {},
   "outputs": [],
   "source": []
  },
  {
   "cell_type": "code",
   "execution_count": null,
   "metadata": {},
   "outputs": [],
   "source": [
    "number = [i for i in range(2, 101, 1)]\n",
    "for i in number:\n",
    "    for j in number:\n",
    "        if(j % i == 0) & (i != j):\n",
    "            number.remove(j)\n",
    "\n",
    "print(number)"
   ]
  },
  {
   "cell_type": "code",
   "execution_count": 3,
   "metadata": {},
   "outputs": [],
   "source": [
    "firstStr = \"Alice was beginning to get very tired of sitting by her sister on the bank, and of having nothing to do\"\n",
    "secStr = \"Kim was beginning to get very tired of sitting by her sister on the bank, and of having nothing to do\"\n",
    "\n",
    "firstStr.lower()\n",
    "secStr.lower()\n",
    "\n",
    "x_list = firstStr.split(' ')\n",
    "y_list = secStr.split(' ')"
   ]
  },
  {
   "cell_type": "code",
   "execution_count": null,
   "metadata": {},
   "outputs": [],
   "source": [
    "x_list"
   ]
  },
  {
   "cell_type": "code",
   "execution_count": null,
   "metadata": {},
   "outputs": [],
   "source": [
    "y_list"
   ]
  },
  {
   "cell_type": "code",
   "execution_count": null,
   "metadata": {},
   "outputs": [],
   "source": [
    "len(x_list)"
   ]
  },
  {
   "cell_type": "code",
   "execution_count": null,
   "metadata": {},
   "outputs": [],
   "source": [
    "len(y_list)"
   ]
  },
  {
   "cell_type": "code",
   "execution_count": 10,
   "metadata": {},
   "outputs": [],
   "source": [
    "dub_word = set(x_list) and (y_list)"
   ]
  },
  {
   "cell_type": "code",
   "execution_count": null,
   "metadata": {},
   "outputs": [],
   "source": [
    "print(f\"표절률 : {len(dub_word) / len(x_list)}\")"
   ]
  },
  {
   "cell_type": "code",
   "execution_count": null,
   "metadata": {},
   "outputs": [],
   "source": [
    "s1 = \"Alice was beginning to get very tired of sitting by her sister on the bank, and of having nothing to do\"\n",
    "s2 = \"Kim was beginning to get very tired of sitting by her sister on the bank, and of having nothing to do\"\n",
    "\n",
    "s1 = s1.lower()\t\t# 문자열을 소문자로 만드는 메소드, 9장 참조\n",
    "s2 = s2.lower()\n",
    "list1 = s1.split(\" \")\t\t# 문자열을 단어로 분리하는 메소드, 9장 참조\n",
    "list2 = s2.split(\" \")\n",
    "\n",
    "total = len(list1)\t\t# 단어의 개수\n",
    "n = len(list(set(list1)&set(list2)))\t# 세트 교집합으로 공통 단어 개수 계산\n",
    "\n",
    "print(f\"\\n표절률 = {100*n/total}\")"
   ]
  },
  {
   "cell_type": "code",
   "execution_count": null,
   "metadata": {},
   "outputs": [],
   "source": [
    "strCount = 'I have a dream that one day every valley shall be exalted and every hill and mountain shall be made low'\n",
    "\n",
    "x_list = set(strCount.split(' '))\n",
    "\n",
    "print(f'중복되지 않은 단어의 수는 : {len(x_list)}')"
   ]
  },
  {
   "cell_type": "code",
   "execution_count": 20,
   "metadata": {},
   "outputs": [],
   "source": [
    "sorce_dic = {\n",
    "    \"Kim\":[99, 83, 95],\n",
    "    \"Lee\":[68,45,78],\n",
    "    \"Choi\":[25, 56, 69]\n",
    "}"
   ]
  },
  {
   "cell_type": "code",
   "execution_count": null,
   "metadata": {},
   "outputs": [],
   "source": [
    "for i, j in sorce_dic.items():\n",
    "    print(f'{i}의 평균 점수는 {sum(j)/len(j)}')"
   ]
  },
  {
   "cell_type": "code",
   "execution_count": null,
   "metadata": {},
   "outputs": [],
   "source": [
    "save_number = dict()\n",
    "\n",
    "def show_menu() -> int:\n",
    "    print(\"1. 연락처 추가 \\n2. 연락처 삭제\\n3. 연락처 검색 \\n4. 연락처 출력 \\n5. 종료\")\n",
    "    self = int(input(\"메뉴 항목을 선택하세요 : \"))\n",
    "    return self\n",
    "\n",
    "def add_info():\n",
    "    global save_number\n",
    "    \n",
    "    name = input(\"To Add name : \")\n",
    "    phoneNunber= input(\"phoneNumber : \")\n",
    "    \n",
    "    save_number[name] = phoneNunber\n",
    "    \n",
    "def del_info():\n",
    "    global save_number\n",
    "    delName = input(\"Del name : \")\n",
    "    \n",
    "    if delName in save_number:\n",
    "        save_number.pop(delName)\n",
    "        \n",
    "    else:\n",
    "        print(\"존재하지 않는 이름 입니다.\")\n",
    "    \n",
    "def search_info():\n",
    "    global save_number\n",
    "    \n",
    "    searchName = input(\"Search name : \")\n",
    "    \n",
    "    if searchName in save_number:\n",
    "        print(f'이름 : {searchName}, phoneNumber : {save_number[searchName]}')\n",
    "    \n",
    "    else:\n",
    "        print(\"존재하지 않는 이름 입니다.\")\n",
    "    \n",
    "def print_info():\n",
    "    global save_number\n",
    "    \n",
    "    \n",
    "    for i, j in save_number.items():\n",
    "        print(f'이름 : {i}, phoneNumber : {j}')\n",
    "\n",
    "\n",
    "def main():\n",
    "    \n",
    "    selecType = 0\n",
    "    while(selecType != 5):\n",
    "        selecType = show_menu()\n",
    "        menu = [add_info, del_info, search_info, print_info]\n",
    "        menu[selecType-1]()\n",
    "            \n",
    "if __name__ == \"__main__\":\n",
    "    main()\n",
    "    "
   ]
  },
  {
   "cell_type": "code",
   "execution_count": 2,
   "metadata": {},
   "outputs": [
    {
     "name": "stdout",
     "output_type": "stream",
     "text": [
      "1. 일정 추가 \n",
      "2. 일정 삭제\n",
      "3. 일정 검색 \n",
      "4. 일정 출력 \n",
      "5. 종료\n"
     ]
    }
   ],
   "source": [
    "save_number = dict()\n",
    "\n",
    "def show_menu() -> int:\n",
    "    print(\"1. 일정 추가 \\n2. 일정 삭제\\n3. 일정 검색 \\n4. 일정 출력 \\n5. 종료\")\n",
    "    self = int(input(\"메뉴 항목을 선택하세요 : \"))\n",
    "    return self\n",
    "\n",
    "def add_info():\n",
    "    global save_number\n",
    "    \n",
    "    day_number = input(\"추가할 일정 날자 ex(10/21): \")\n",
    "    todo = input(\"일정 : \")\n",
    "    \n",
    "    if day_number in save_number:\n",
    "        save_number[day_number].append(todo)\n",
    "    else:\n",
    "        save_number[day_number] = [todo]\n",
    "    \n",
    "def del_info():\n",
    "    global save_number\n",
    "    delName = input(\"지울 일정을 입력하여주세요 ex(10/21) : \")\n",
    "    \n",
    "    if delName in save_number:\n",
    "        if len(save_number[delName]) > 1:\n",
    "            for i in range(0, len(save_number[delName])):\n",
    "                print(f'{i+1}번째 일정 {save_number[delName][i]}')\n",
    "            popNumber = int(input(\"삭제할 넘버를 입력하여 주세요 : \"))\n",
    "            del save_number[delName][popNumber-1]\n",
    "    else:\n",
    "        print(\"존재하지 않는 일정 입니다.\")\n",
    "    \n",
    "def search_info():\n",
    "    global save_number\n",
    "    \n",
    "    searchName = input(\"찾을 일정을 입력하여 주세요 : \")\n",
    "    \n",
    "    if searchName in save_number:\n",
    "        print(f'일정 날자 : {searchName}')\n",
    "        for i in save_number[searchName]:\n",
    "            print(i, end=', ')\n",
    "        print(\"\\n\")\n",
    "    \n",
    "    else:\n",
    "        print(\"존재하지 않는 일정 입니다.\")\n",
    "    \n",
    "def print_info():\n",
    "    global save_number\n",
    "    \n",
    "    \n",
    "    for i, j in save_number.items():\n",
    "        print(f'일정 날자 : {i}, 일정 : {j}')\n",
    "\n",
    "\n",
    "def main():\n",
    "    \n",
    "    selecType = 0\n",
    "    while(selecType != 5):\n",
    "        selecType = show_menu()\n",
    "        menu = [add_info, del_info, search_info, print_info]\n",
    "        if(selecType< 5):\n",
    "            menu[selecType-1]()\n",
    "        else:\n",
    "            selecType = 5\n",
    "            \n",
    "if __name__ == \"__main__\":\n",
    "    main()\n",
    "    "
   ]
  },
  {
   "cell_type": "code",
   "execution_count": 20,
   "metadata": {},
   "outputs": [
    {
     "data": {
      "text/plain": [
       "'defgh'"
      ]
     },
     "execution_count": 20,
     "metadata": {},
     "output_type": "execute_result"
    }
   ],
   "source": [
    "ceaser = input(\"문자열을 입력하세요\")\n",
    "stepNumber = int(input(\"몇개의 숫자 뒤로 넘길 건가요? \"))\n",
    "ceaser = list(ceaser)\n",
    "\n",
    "for i in range(0, len(ceaser)):\n",
    "    ceaser[i] = chr(ord(ceaser[i]) + stepNumber)\n",
    "print(\"\".join(ceaser))"
   ]
  },
  {
   "cell_type": "code",
   "execution_count": 22,
   "metadata": {},
   "outputs": [
    {
     "name": "stdout",
     "output_type": "stream",
     "text": [
      "defg"
     ]
    }
   ],
   "source": [
    "ceaser = input(\"문자열을 입력하세요\")\n",
    "stepNumber = int(input(\"몇개의 숫자 뒤로 넘길 건가요? \"))\n",
    "\n",
    "for i in list(ceaser):\n",
    "    print(chr(ord(i) + stepNumber), end=\"\")\n"
   ]
  },
  {
   "cell_type": "code",
   "execution_count": 23,
   "metadata": {},
   "outputs": [
    {
     "data": {
      "text/plain": [
       "'defg'"
      ]
     },
     "execution_count": 23,
     "metadata": {},
     "output_type": "execute_result"
    }
   ],
   "source": [
    "ceaser = input(\"문자열을 입력하세요\")\n",
    "stepNumber = int(input(\"몇개의 숫자 뒤로 넘길 건가요? \"))\n",
    "ceaser = [chr(ord(i) + stepNumber) for i in list(ceaser)]\n",
    "\"\".join(ceaser)"
   ]
  },
  {
   "cell_type": "code",
   "execution_count": 24,
   "metadata": {},
   "outputs": [
    {
     "data": {
      "text/plain": [
       "'defg'"
      ]
     },
     "execution_count": 24,
     "metadata": {},
     "output_type": "execute_result"
    }
   ],
   "source": [
    "ceaser = input(\"문자열을 입력하세요\")\n",
    "stepNumber = int(input(\"몇개의 숫자 뒤로 넘길 건가요? \"))\n",
    "\"\".join([chr(ord(i) + stepNumber) for i in list(ceaser)])"
   ]
  },
  {
   "cell_type": "code",
   "execution_count": 29,
   "metadata": {},
   "outputs": [
    {
     "name": "stdout",
     "output_type": "stream",
     "text": [
      "20241211\n"
     ]
    }
   ],
   "source": [
    "print(\"\".join(input().split(\"/\")[::-1]))\n"
   ]
  },
  {
   "cell_type": "code",
   "execution_count": 45,
   "metadata": {},
   "outputs": [
    {
     "name": "stdout",
     "output_type": "stream",
     "text": [
      "총매출 = 5000000\n",
      "평균일매출 = 1000000.0\n"
     ]
    }
   ],
   "source": [
    "total = 0\n",
    "\n",
    "lines = [int(i.split(\"\\n\")[0]) for i in open(\"./sell.txt\", \"r\").readlines()]\n",
    "\n",
    "print(f'총매출 = {sum(lines)}\\n평균일매출 = {sum(lines) / float(len(lines))}')"
   ]
  },
  {
   "cell_type": "code",
   "execution_count": 49,
   "metadata": {},
   "outputs": [],
   "source": [
    "total = 0\n",
    "\n",
    "with open(\"./sell.txt\", \"r\") as file:\n",
    "    lines = [int(i.split(\"\\n\")[0]) for i in file]\n",
    "    \n",
    "    \n",
    "\n",
    "with open(\"./manage.txt\", \"w\") as file:\n",
    "    file.write(f'총매출 = {sum(lines)}\\n평균일매출 = {sum(lines) / float(len(lines))}')"
   ]
  },
  {
   "cell_type": "code",
   "execution_count": 70,
   "metadata": {},
   "outputs": [],
   "source": [
    "import pandas as pd\n",
    "pd.set_option(\"display.float_format\", \"{:.2f}\".format)"
   ]
  },
  {
   "cell_type": "code",
   "execution_count": 71,
   "metadata": {},
   "outputs": [
    {
     "name": "stderr",
     "output_type": "stream",
     "text": [
      "/var/folders/fy/h0_mgq7926d7ggr2rkt29cz80000gn/T/ipykernel_43114/3644262207.py:1: DtypeWarning: Columns (2) have mixed types. Specify dtype option on import or set low_memory=False.\n",
      "  data = pd.read_csv(\"./data/information.csv\", encoding='utf-8')\n"
     ]
    }
   ],
   "source": [
    "data = pd.read_csv(\"./data/information.csv\", encoding='utf-8')"
   ]
  },
  {
   "cell_type": "code",
   "execution_count": 72,
   "metadata": {},
   "outputs": [],
   "source": [
    "data= data.rename(columns={\n",
    "    \"상호명\" : \"name\",\n",
    "    \"경도\" : \"lon\",\n",
    "    \"위도\" : \"lat\",\n",
    "})"
   ]
  },
  {
   "cell_type": "code",
   "execution_count": 73,
   "metadata": {},
   "outputs": [
    {
     "data": {
      "text/plain": [
       "0              영자's곱창\n",
       "1               호텔클로이\n",
       "2           나라차중계태권도장\n",
       "3               이상한스냅\n",
       "4                 토끼정\n",
       "             ...     \n",
       "460432    마스터부동산중개사무소\n",
       "460433     그릿뷰티아카데미학원\n",
       "460434          최지원렌탈\n",
       "460435        매직노래연습장\n",
       "460436            곱창꾼\n",
       "Name: name, Length: 460437, dtype: object"
      ]
     },
     "execution_count": 73,
     "metadata": {},
     "output_type": "execute_result"
    }
   ],
   "source": [
    "data['name']"
   ]
  },
  {
   "cell_type": "code",
   "execution_count": 76,
   "metadata": {},
   "outputs": [],
   "source": [
    "data1 = data[['name','lon', 'lat']]"
   ]
  },
  {
   "cell_type": "code",
   "execution_count": 94,
   "metadata": {},
   "outputs": [
    {
     "data": {
      "text/html": [
       "<div>\n",
       "<style scoped>\n",
       "    .dataframe tbody tr th:only-of-type {\n",
       "        vertical-align: middle;\n",
       "    }\n",
       "\n",
       "    .dataframe tbody tr th {\n",
       "        vertical-align: top;\n",
       "    }\n",
       "\n",
       "    .dataframe thead th {\n",
       "        text-align: right;\n",
       "    }\n",
       "</style>\n",
       "<table border=\"1\" class=\"dataframe\">\n",
       "  <thead>\n",
       "    <tr style=\"text-align: right;\">\n",
       "      <th></th>\n",
       "      <th>name</th>\n",
       "      <th>lon</th>\n",
       "      <th>lat</th>\n",
       "    </tr>\n",
       "  </thead>\n",
       "  <tbody>\n",
       "    <tr>\n",
       "      <th>2</th>\n",
       "      <td>나라차중계태권도장</td>\n",
       "      <td>127.08</td>\n",
       "      <td>37.65</td>\n",
       "    </tr>\n",
       "    <tr>\n",
       "      <th>29</th>\n",
       "      <td>진뱅크</td>\n",
       "      <td>127.06</td>\n",
       "      <td>37.67</td>\n",
       "    </tr>\n",
       "    <tr>\n",
       "      <th>38</th>\n",
       "      <td>아영떡집</td>\n",
       "      <td>127.03</td>\n",
       "      <td>37.64</td>\n",
       "    </tr>\n",
       "    <tr>\n",
       "      <th>48</th>\n",
       "      <td>아세아당구장</td>\n",
       "      <td>127.06</td>\n",
       "      <td>37.61</td>\n",
       "    </tr>\n",
       "    <tr>\n",
       "      <th>58</th>\n",
       "      <td>동평카센터</td>\n",
       "      <td>127.07</td>\n",
       "      <td>37.66</td>\n",
       "    </tr>\n",
       "    <tr>\n",
       "      <th>...</th>\n",
       "      <td>...</td>\n",
       "      <td>...</td>\n",
       "      <td>...</td>\n",
       "    </tr>\n",
       "    <tr>\n",
       "      <th>460382</th>\n",
       "      <td>빽다방빨래골</td>\n",
       "      <td>127.02</td>\n",
       "      <td>37.63</td>\n",
       "    </tr>\n",
       "    <tr>\n",
       "      <th>460394</th>\n",
       "      <td>키르시롯데노원점</td>\n",
       "      <td>127.06</td>\n",
       "      <td>37.66</td>\n",
       "    </tr>\n",
       "    <tr>\n",
       "      <th>460410</th>\n",
       "      <td>예히세라믹스</td>\n",
       "      <td>127.02</td>\n",
       "      <td>37.64</td>\n",
       "    </tr>\n",
       "    <tr>\n",
       "      <th>460427</th>\n",
       "      <td>지에스25정릉</td>\n",
       "      <td>127.01</td>\n",
       "      <td>37.61</td>\n",
       "    </tr>\n",
       "    <tr>\n",
       "      <th>460428</th>\n",
       "      <td>샤샤</td>\n",
       "      <td>127.02</td>\n",
       "      <td>37.63</td>\n",
       "    </tr>\n",
       "  </tbody>\n",
       "</table>\n",
       "<p>43028 rows × 3 columns</p>\n",
       "</div>"
      ],
      "text/plain": [
       "             name    lon   lat\n",
       "2       나라차중계태권도장 127.08 37.65\n",
       "29            진뱅크 127.06 37.67\n",
       "38           아영떡집 127.03 37.64\n",
       "48         아세아당구장 127.06 37.61\n",
       "58          동평카센터 127.07 37.66\n",
       "...           ...    ...   ...\n",
       "460382     빽다방빨래골 127.02 37.63\n",
       "460394   키르시롯데노원점 127.06 37.66\n",
       "460410     예히세라믹스 127.02 37.64\n",
       "460427    지에스25정릉 127.01 37.61\n",
       "460428         샤샤 127.02 37.63\n",
       "\n",
       "[43028 rows x 3 columns]"
      ]
     },
     "execution_count": 94,
     "metadata": {},
     "output_type": "execute_result"
    }
   ],
   "source": [
    "data1[(data1['lon'] > 127) & (data1['lat'] > 37.6)]"
   ]
  },
  {
   "cell_type": "code",
   "execution_count": 95,
   "metadata": {},
   "outputs": [
    {
     "name": "stderr",
     "output_type": "stream",
     "text": [
      "/var/folders/fy/h0_mgq7926d7ggr2rkt29cz80000gn/T/ipykernel_43114/1752178648.py:1: SettingWithCopyWarning: \n",
      "A value is trying to be set on a copy of a slice from a DataFrame.\n",
      "Try using .loc[row_indexer,col_indexer] = value instead\n",
      "\n",
      "See the caveats in the documentation: https://pandas.pydata.org/pandas-docs/stable/user_guide/indexing.html#returning-a-view-versus-a-copy\n",
      "  data1['addr'] = data['도로명주소']\n"
     ]
    }
   ],
   "source": [
    "data1['addr'] = data['도로명주소']"
   ]
  },
  {
   "cell_type": "code",
   "execution_count": 96,
   "metadata": {},
   "outputs": [
    {
     "data": {
      "text/html": [
       "<div>\n",
       "<style scoped>\n",
       "    .dataframe tbody tr th:only-of-type {\n",
       "        vertical-align: middle;\n",
       "    }\n",
       "\n",
       "    .dataframe tbody tr th {\n",
       "        vertical-align: top;\n",
       "    }\n",
       "\n",
       "    .dataframe thead th {\n",
       "        text-align: right;\n",
       "    }\n",
       "</style>\n",
       "<table border=\"1\" class=\"dataframe\">\n",
       "  <thead>\n",
       "    <tr style=\"text-align: right;\">\n",
       "      <th></th>\n",
       "      <th>name</th>\n",
       "      <th>lon</th>\n",
       "      <th>lat</th>\n",
       "      <th>addr</th>\n",
       "    </tr>\n",
       "  </thead>\n",
       "  <tbody>\n",
       "    <tr>\n",
       "      <th>0</th>\n",
       "      <td>영자's곱창</td>\n",
       "      <td>127.08</td>\n",
       "      <td>37.57</td>\n",
       "      <td>서울특별시 광진구 면목로 172</td>\n",
       "    </tr>\n",
       "    <tr>\n",
       "      <th>1</th>\n",
       "      <td>호텔클로이</td>\n",
       "      <td>127.01</td>\n",
       "      <td>37.57</td>\n",
       "      <td>서울특별시 중구 을지로42길 11</td>\n",
       "    </tr>\n",
       "    <tr>\n",
       "      <th>2</th>\n",
       "      <td>나라차중계태권도장</td>\n",
       "      <td>127.08</td>\n",
       "      <td>37.65</td>\n",
       "      <td>서울특별시 노원구 한글비석로 242</td>\n",
       "    </tr>\n",
       "    <tr>\n",
       "      <th>3</th>\n",
       "      <td>이상한스냅</td>\n",
       "      <td>126.83</td>\n",
       "      <td>37.54</td>\n",
       "      <td>서울특별시 양천구 월정로 283</td>\n",
       "    </tr>\n",
       "    <tr>\n",
       "      <th>4</th>\n",
       "      <td>토끼정</td>\n",
       "      <td>126.83</td>\n",
       "      <td>37.56</td>\n",
       "      <td>서울특별시 강서구 마곡동로 55</td>\n",
       "    </tr>\n",
       "    <tr>\n",
       "      <th>...</th>\n",
       "      <td>...</td>\n",
       "      <td>...</td>\n",
       "      <td>...</td>\n",
       "      <td>...</td>\n",
       "    </tr>\n",
       "    <tr>\n",
       "      <th>460432</th>\n",
       "      <td>마스터부동산중개사무소</td>\n",
       "      <td>126.83</td>\n",
       "      <td>37.56</td>\n",
       "      <td>서울특별시 강서구 공항대로 247</td>\n",
       "    </tr>\n",
       "    <tr>\n",
       "      <th>460433</th>\n",
       "      <td>그릿뷰티아카데미학원</td>\n",
       "      <td>127.09</td>\n",
       "      <td>37.58</td>\n",
       "      <td>서울특별시 중랑구 사가정로 409</td>\n",
       "    </tr>\n",
       "    <tr>\n",
       "      <th>460434</th>\n",
       "      <td>최지원렌탈</td>\n",
       "      <td>126.90</td>\n",
       "      <td>37.48</td>\n",
       "      <td>서울특별시 금천구 시흥대로150길 6</td>\n",
       "    </tr>\n",
       "    <tr>\n",
       "      <th>460435</th>\n",
       "      <td>매직노래연습장</td>\n",
       "      <td>126.89</td>\n",
       "      <td>37.49</td>\n",
       "      <td>서울특별시 구로구 구로중앙로 23</td>\n",
       "    </tr>\n",
       "    <tr>\n",
       "      <th>460436</th>\n",
       "      <td>곱창꾼</td>\n",
       "      <td>126.90</td>\n",
       "      <td>37.44</td>\n",
       "      <td>서울특별시 금천구 시흥대로26길 11-7</td>\n",
       "    </tr>\n",
       "  </tbody>\n",
       "</table>\n",
       "<p>460437 rows × 4 columns</p>\n",
       "</div>"
      ],
      "text/plain": [
       "               name    lon   lat                    addr\n",
       "0            영자's곱창 127.08 37.57       서울특별시 광진구 면목로 172\n",
       "1             호텔클로이 127.01 37.57      서울특별시 중구 을지로42길 11\n",
       "2         나라차중계태권도장 127.08 37.65     서울특별시 노원구 한글비석로 242\n",
       "3             이상한스냅 126.83 37.54       서울특별시 양천구 월정로 283\n",
       "4               토끼정 126.83 37.56       서울특별시 강서구 마곡동로 55\n",
       "...             ...    ...   ...                     ...\n",
       "460432  마스터부동산중개사무소 126.83 37.56      서울특별시 강서구 공항대로 247\n",
       "460433   그릿뷰티아카데미학원 127.09 37.58      서울특별시 중랑구 사가정로 409\n",
       "460434        최지원렌탈 126.90 37.48    서울특별시 금천구 시흥대로150길 6\n",
       "460435      매직노래연습장 126.89 37.49      서울특별시 구로구 구로중앙로 23\n",
       "460436          곱창꾼 126.90 37.44  서울특별시 금천구 시흥대로26길 11-7\n",
       "\n",
       "[460437 rows x 4 columns]"
      ]
     },
     "execution_count": 96,
     "metadata": {},
     "output_type": "execute_result"
    }
   ],
   "source": [
    "data1"
   ]
  },
  {
   "cell_type": "code",
   "execution_count": 4,
   "metadata": {},
   "outputs": [],
   "source": [
    "%ls"
   ]
  },
  {
   "cell_type": "code",
   "execution_count": 3,
   "metadata": {},
   "outputs": [
    {
     "name": "stdout",
     "output_type": "stream",
     "text": [
      "/Users/samoyed/Documents/Study/Hoseo/Hoseo_Study/Python/11_04\n"
     ]
    }
   ],
   "source": [
    "%cd 11_04"
   ]
  },
  {
   "cell_type": "code",
   "execution_count": 5,
   "metadata": {},
   "outputs": [],
   "source": [
    "import os\n",
    "            \n",
    "\n",
    "os.makedirs(\"math_exam\")\n",
    "os.chdir(\"./math_exam\")\n",
    "\n",
    "for exam_index in range(100):\n",
    "    with open(f'exam_{exam_index}.txt', 'w') as f:\n",
    "        import random\n",
    "        for problem_index in range(10):\n",
    "            x = random.randint(1, 100)\n",
    "            y = random.randint(1, 100)\n",
    "            op = random.choice([\"+\", \"-\", \"x\", '/'])\n",
    "            \n",
    "            f.write(f'{x} {op} {y} = \\n')\n"
   ]
  },
  {
   "cell_type": "code",
   "execution_count": 1,
   "metadata": {},
   "outputs": [
    {
     "name": "stdout",
     "output_type": "stream",
     "text": [
      "Error comment invalid literal for int() with base 10: 'Ten'\n",
      "20\n",
      "0\n",
      "100\n",
      "1.0\n",
      "Error\n",
      "30\n",
      "-10\n",
      "200\n",
      "0.5\n",
      "Error\n",
      "30\n",
      "-10\n",
      "200\n",
      "0.5\n",
      "Error\n",
      "Error comment invalid literal for int() with base 10: ''\n",
      "Error comment invalid literal for int() with base 10: 'False'\n"
     ]
    },
    {
     "ename": "KeyboardInterrupt",
     "evalue": "Interrupted by user",
     "output_type": "error",
     "traceback": [
      "\u001b[0;31m---------------------------------------------------------------------------\u001b[0m",
      "\u001b[0;31mKeyboardInterrupt\u001b[0m                         Traceback (most recent call last)",
      "Cell \u001b[0;32mIn [1], line 3\u001b[0m\n\u001b[1;32m      1\u001b[0m \u001b[38;5;28;01mwhile\u001b[39;00m \u001b[38;5;28;01mTrue\u001b[39;00m:\n\u001b[1;32m      2\u001b[0m     \u001b[38;5;28;01mtry\u001b[39;00m:\n\u001b[0;32m----> 3\u001b[0m         x \u001b[38;5;241m=\u001b[39m \u001b[38;5;28mint\u001b[39m(\u001b[38;5;28;43minput\u001b[39;49m\u001b[43m(\u001b[49m\u001b[38;5;124;43m\"\u001b[39;49m\u001b[38;5;124;43mX Value를 입력하세요 : \u001b[39;49m\u001b[38;5;124;43m\"\u001b[39;49m\u001b[43m)\u001b[49m)\n\u001b[1;32m      4\u001b[0m         y \u001b[38;5;241m=\u001b[39m \u001b[38;5;28mint\u001b[39m(\u001b[38;5;28minput\u001b[39m(\u001b[38;5;124m\"\u001b[39m\u001b[38;5;124mX Value를 입력하세요 : \u001b[39m\u001b[38;5;124m\"\u001b[39m))\n\u001b[1;32m      6\u001b[0m         \u001b[38;5;28mprint\u001b[39m(x \u001b[38;5;241m+\u001b[39m y)\n",
      "File \u001b[0;32m~/.local/lib/python3.11/site-packages/ipykernel/kernelbase.py:1177\u001b[0m, in \u001b[0;36mKernel.raw_input\u001b[0;34m(self, prompt)\u001b[0m\n\u001b[1;32m   1173\u001b[0m \u001b[38;5;28;01mif\u001b[39;00m \u001b[38;5;129;01mnot\u001b[39;00m \u001b[38;5;28mself\u001b[39m\u001b[38;5;241m.\u001b[39m_allow_stdin:\n\u001b[1;32m   1174\u001b[0m     \u001b[38;5;28;01mraise\u001b[39;00m StdinNotImplementedError(\n\u001b[1;32m   1175\u001b[0m         \u001b[38;5;124m\"\u001b[39m\u001b[38;5;124mraw_input was called, but this frontend does not support input requests.\u001b[39m\u001b[38;5;124m\"\u001b[39m\n\u001b[1;32m   1176\u001b[0m     )\n\u001b[0;32m-> 1177\u001b[0m \u001b[38;5;28;01mreturn\u001b[39;00m \u001b[38;5;28;43mself\u001b[39;49m\u001b[38;5;241;43m.\u001b[39;49m\u001b[43m_input_request\u001b[49m\u001b[43m(\u001b[49m\n\u001b[1;32m   1178\u001b[0m \u001b[43m    \u001b[49m\u001b[38;5;28;43mstr\u001b[39;49m\u001b[43m(\u001b[49m\u001b[43mprompt\u001b[49m\u001b[43m)\u001b[49m\u001b[43m,\u001b[49m\n\u001b[1;32m   1179\u001b[0m \u001b[43m    \u001b[49m\u001b[38;5;28;43mself\u001b[39;49m\u001b[38;5;241;43m.\u001b[39;49m\u001b[43m_parent_ident\u001b[49m\u001b[43m[\u001b[49m\u001b[38;5;124;43m\"\u001b[39;49m\u001b[38;5;124;43mshell\u001b[39;49m\u001b[38;5;124;43m\"\u001b[39;49m\u001b[43m]\u001b[49m\u001b[43m,\u001b[49m\n\u001b[1;32m   1180\u001b[0m \u001b[43m    \u001b[49m\u001b[38;5;28;43mself\u001b[39;49m\u001b[38;5;241;43m.\u001b[39;49m\u001b[43mget_parent\u001b[49m\u001b[43m(\u001b[49m\u001b[38;5;124;43m\"\u001b[39;49m\u001b[38;5;124;43mshell\u001b[39;49m\u001b[38;5;124;43m\"\u001b[39;49m\u001b[43m)\u001b[49m\u001b[43m,\u001b[49m\n\u001b[1;32m   1181\u001b[0m \u001b[43m    \u001b[49m\u001b[43mpassword\u001b[49m\u001b[38;5;241;43m=\u001b[39;49m\u001b[38;5;28;43;01mFalse\u001b[39;49;00m\u001b[43m,\u001b[49m\n\u001b[1;32m   1182\u001b[0m \u001b[43m\u001b[49m\u001b[43m)\u001b[49m\n",
      "File \u001b[0;32m~/.local/lib/python3.11/site-packages/ipykernel/kernelbase.py:1219\u001b[0m, in \u001b[0;36mKernel._input_request\u001b[0;34m(self, prompt, ident, parent, password)\u001b[0m\n\u001b[1;32m   1216\u001b[0m             \u001b[38;5;28;01mbreak\u001b[39;00m\n\u001b[1;32m   1217\u001b[0m \u001b[38;5;28;01mexcept\u001b[39;00m \u001b[38;5;167;01mKeyboardInterrupt\u001b[39;00m:\n\u001b[1;32m   1218\u001b[0m     \u001b[38;5;66;03m# re-raise KeyboardInterrupt, to truncate traceback\u001b[39;00m\n\u001b[0;32m-> 1219\u001b[0m     \u001b[38;5;28;01mraise\u001b[39;00m \u001b[38;5;167;01mKeyboardInterrupt\u001b[39;00m(\u001b[38;5;124m\"\u001b[39m\u001b[38;5;124mInterrupted by user\u001b[39m\u001b[38;5;124m\"\u001b[39m) \u001b[38;5;28;01mfrom\u001b[39;00m \u001b[38;5;28mNone\u001b[39m\n\u001b[1;32m   1220\u001b[0m \u001b[38;5;28;01mexcept\u001b[39;00m \u001b[38;5;167;01mException\u001b[39;00m:\n\u001b[1;32m   1221\u001b[0m     \u001b[38;5;28mself\u001b[39m\u001b[38;5;241m.\u001b[39mlog\u001b[38;5;241m.\u001b[39mwarning(\u001b[38;5;124m\"\u001b[39m\u001b[38;5;124mInvalid Message:\u001b[39m\u001b[38;5;124m\"\u001b[39m, exc_info\u001b[38;5;241m=\u001b[39m\u001b[38;5;28;01mTrue\u001b[39;00m)\n",
      "\u001b[0;31mKeyboardInterrupt\u001b[0m: Interrupted by user"
     ]
    }
   ],
   "source": [
    "while True:\n",
    "    try:\n",
    "        x = int(input(\"X Value를 입력하세요 : \"))\n",
    "        y = int(input(\"X Value를 입력하세요 : \"))\n",
    "        \n",
    "        print(x + y)\n",
    "        print(x - y)\n",
    "        print(x * y)\n",
    "        print(x / y)\n",
    "        \n",
    "    except ValueError as e:\n",
    "        print(f'Error comment {e}')\n",
    "\n",
    "    except BaseException as e:\n",
    "        print(e)\n",
    "    \n",
    "    finally:\n",
    "        print(\"finaly\")"
   ]
  },
  {
   "cell_type": "markdown",
   "metadata": {},
   "source": []
  }
 ],
 "metadata": {
  "kernelspec": {
   "display_name": "base",
   "language": "python",
   "name": "python3"
  },
  "language_info": {
   "codemirror_mode": {
    "name": "ipython",
    "version": 3
   },
   "file_extension": ".py",
   "mimetype": "text/x-python",
   "name": "python",
   "nbconvert_exporter": "python",
   "pygments_lexer": "ipython3",
   "version": "3.11.7"
  }
 },
 "nbformat": 4,
 "nbformat_minor": 2
}
