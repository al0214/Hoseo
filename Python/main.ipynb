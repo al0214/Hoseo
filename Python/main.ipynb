{
 "cells": [
  {
   "cell_type": "markdown",
   "metadata": {},
   "source": [
    "## 9월 2일 수업"
   ]
  },
  {
   "cell_type": "code",
   "execution_count": 3,
   "metadata": {},
   "outputs": [],
   "source": [
    "a = 200\n",
    "b = 100"
   ]
  },
  {
   "cell_type": "code",
   "execution_count": 4,
   "metadata": {},
   "outputs": [
    {
     "data": {
      "text/plain": [
       "100"
      ]
     },
     "execution_count": 4,
     "metadata": {},
     "output_type": "execute_result"
    }
   ],
   "source": [
    "a-b"
   ]
  },
  {
   "cell_type": "code",
   "execution_count": 10,
   "metadata": {},
   "outputs": [],
   "source": [
    "def tri(height: float, weight:float):\n",
    "    \"\"\"\n",
    "    height는 높이\n",
    "    weight는 넓이\n",
    "    \"\"\"\n",
    "    return height*weight/2"
   ]
  },
  {
   "cell_type": "code",
   "execution_count": 11,
   "metadata": {},
   "outputs": [
    {
     "name": "stdout",
     "output_type": "stream",
     "text": [
      "50.0\n"
     ]
    }
   ],
   "source": [
    "print(tri(10, 10))"
   ]
  },
  {
   "cell_type": "code",
   "execution_count": 15,
   "metadata": {},
   "outputs": [
    {
     "name": "stdout",
     "output_type": "stream",
     "text": [
      "홍길동 씨, 안녕하세요?\n",
      "파이썬에 오신 것을 환영합니다.\n",
      "300와 400의 합은 700입니다.\n"
     ]
    }
   ],
   "source": [
    "name = input(\"이름을 입력하시오 : \")\n",
    "print(f'{name} 씨, 안녕하세요?\\n파이썬에 오신 것을 환영합니다.')\n",
    "a = input(\"첫 번째 점수를 입력하시오 : \")\n",
    "b = input(\"두 번째 점수를 입력하시오 : \")\n",
    "print(f'{a}와 {b}의 합은 {int(a)+int(b)}입니다.')\n"
   ]
  },
  {
   "cell_type": "code",
   "execution_count": null,
   "metadata": {},
   "outputs": [],
   "source": [
    "import turtle\n",
    "t = turtle.Turtle()\n",
    "t.shape(\"turtle\")\n",
    "def turtle_draw(weight):\n",
    "    for i in range(0, 3):\n",
    "        t.forward(weight)\n",
    "        t.left(90)\n",
    "turtle.done()\n",
    "\n",
    "    "
   ]
  },
  {
   "cell_type": "code",
   "execution_count": 17,
   "metadata": {},
   "outputs": [
    {
     "name": "stdout",
     "output_type": "stream",
     "text": [
      "전체 다리 수는 20\n"
     ]
    }
   ],
   "source": [
    "a =int(input(\"닭의 마리 수를 입력하세요 : \"))\n",
    "b =int(input(\"돼지의 마리 수를 입력하세요 : \"))\n",
    "c =int(input(\"소의 마리 수를 입력하세요 : \"))\n",
    "\n",
    "print(f\"전체 다리 수는 {(a*2)+((b+c)*4)}\")"
   ]
  },
  {
   "cell_type": "code",
   "execution_count": 19,
   "metadata": {},
   "outputs": [
    {
     "name": "stdout",
     "output_type": "stream",
     "text": [
      "전체 가격 = 42600.0\n"
     ]
    }
   ],
   "source": [
    "a =int(input(\"상품의 가격 : \"))\n",
    "b =int(input(\"상품의 계수 : \"))\n",
    "c =int(input(\"부사세(%) : \"))\n",
    "d = int(input(\"배송료 : \"))\n",
    "\n",
    "print(f'전체 가격 = {(a*b)+(a*b)*(c/100)+d}')"
   ]
  },
  {
   "cell_type": "code",
   "execution_count": 20,
   "metadata": {},
   "outputs": [],
   "source": [
    "a = 10\n",
    "b = 20\n",
    "\n",
    "c = a\n",
    "a = b\n",
    "b = c"
   ]
  },
  {
   "cell_type": "code",
   "execution_count": 21,
   "metadata": {},
   "outputs": [
    {
     "name": "stdout",
     "output_type": "stream",
     "text": [
      "20\n",
      "10\n"
     ]
    }
   ],
   "source": [
    "print(a)\n",
    "print(b)"
   ]
  },
  {
   "cell_type": "markdown",
   "metadata": {},
   "source": [
    "## 9월 9일 수업"
   ]
  },
  {
   "cell_type": "code",
   "execution_count": 1,
   "metadata": {},
   "outputs": [
    {
     "name": "stdout",
     "output_type": "stream",
     "text": [
      "4\n",
      "1.6666666666666667\n",
      "1000\n"
     ]
    }
   ],
   "source": [
    "print(10 % 6)\n",
    "print(10/6)\n",
    "print(10**3)"
   ]
  },
  {
   "cell_type": "code",
   "execution_count": 2,
   "metadata": {},
   "outputs": [
    {
     "name": "stdout",
     "output_type": "stream",
     "text": [
      "오늘 총 매출은 29500원 입니다.\n"
     ]
    }
   ],
   "source": [
    "milk = int(input(\"판매된 우유의 개수 : \"))\n",
    "cola = int(input(\"판매된 콜라의 개수 : \"))\n",
    "kimBab = int(input(\"판매된 김밥의 개수 : \"))\n",
    "\n",
    "print(f\"오늘 총 매출은 {(milk*2000)+(cola*3000)+(kimBab*3500)}원 입니다.\")"
   ]
  },
  {
   "cell_type": "code",
   "execution_count": 6,
   "metadata": {},
   "outputs": [
    {
     "name": "stdout",
     "output_type": "stream",
     "text": [
      "평균 성적은 92.67점 입니다.\n"
     ]
    }
   ],
   "source": [
    "korLang = int(input(\"한국 점수 : \"))\n",
    "mathLang = int(input(\"수학 점수 : \"))\n",
    "engLang = int(input(\"영어 점수 : \"))\n",
    "print(f'평균 성적은 {float((korLang+mathLang+engLang)/3):0.2f}점 입니다.')"
   ]
  },
  {
   "cell_type": "code",
   "execution_count": 16,
   "metadata": {},
   "outputs": [
    {
     "name": "stdout",
     "output_type": "stream",
     "text": [
      "세금(10%) : 2700\n",
      "봉사료(5%) : 1350\n",
      "전체 가격 : 31050\n",
      "\n",
      "받은 금액 : 50000\n",
      "\n",
      " 거스름돈 : 18950\n",
      "10000원 지폐의 개수 : 1\n",
      "5000원 지폐의 개수 : 1\n",
      "1000원 지폐의 개수 : 3\n",
      "500원 지폐의 개수 : 1\n",
      "100원 지폐의 개수 : 4\n",
      "50원 지폐의 개수 : 1\n"
     ]
    }
   ],
   "source": [
    "def recvMoney(charge):\n",
    "    print(f\"10000원 지폐의 개수 : {charge//10000}\")\n",
    "    charge %= 10000\n",
    "    print(f\"5000원 지폐의 개수 : {charge//5000}\")\n",
    "    charge %= 5000\n",
    "    print(f\"1000원 지폐의 개수 : {charge//1000}\")\n",
    "    charge %= 1000\n",
    "    print(f\"500원 지폐의 개수 : {charge//500}\")\n",
    "    charge %= 500\n",
    "    print(f\"100원 지폐의 개수 : {charge//100}\")\n",
    "    charge %= 100\n",
    "    print(f\"50원 지폐의 개수 : {charge//50}\")\n",
    "    charge %= 50\n",
    "\n",
    "price = int(input(\"상품의 가격 : \"))\n",
    "num = int(input(\"상품의 개수 : \"))\n",
    "\n",
    "total = price * num\n",
    "\n",
    "tax = round(total * 0.1)\n",
    "print(f\"세금(10%) : {tax}\")\n",
    "\n",
    "service = round(total * 0.05)\n",
    "print(f\"봉사료(5%) : {service}\")\n",
    "\n",
    "total += tax + service\n",
    "print(f'전체 가격 : {total}')\n",
    "\n",
    "recv = int(input(\"\\n 받은 금액 : \"))\n",
    "print(f\"\\n받은 금액 : {recv}\")\n",
    "\n",
    "charge = recv - total\n",
    "print(f\"\\n거스름돈 : {charge}\")\n",
    "\n",
    "recvMoney(charge)\n"
   ]
  },
  {
   "cell_type": "code",
   "execution_count": 19,
   "metadata": {},
   "outputs": [
    {
     "name": "stdout",
     "output_type": "stream",
     "text": [
      "3000\n"
     ]
    }
   ],
   "source": [
    "price = 20000\n",
    "if(price > 20000):\n",
    "    shipment = 0\n",
    "else:\n",
    "    shipment = 3000\n",
    "\n",
    "print(shipment)"
   ]
  },
  {
   "cell_type": "code",
   "execution_count": 20,
   "metadata": {},
   "outputs": [],
   "source": [
    "# 연봉은 만원 단위이다.\n",
    "# (1000 if year >= 25 and yearPay >= 3500 else 3000)\n"
   ]
  },
  {
   "cell_type": "code",
   "execution_count": 42,
   "metadata": {},
   "outputs": [
    {
     "name": "stdout",
     "output_type": "stream",
     "text": [
      "동전 던지기 게임을 시작합니다. \n",
      "앞면입니다. \n",
      "게임이 종료되었습니다.\n"
     ]
    }
   ],
   "source": [
    "import random\n",
    "\n",
    "print(f\"동전 던지기 게임을 시작합니다. \\n{'앞면입니다.' if random.randint(1, 2) == 1 else '뒷면입니다.'} \\n게임이 종료되었습니다.\")\n",
    "\n"
   ]
  },
  {
   "cell_type": "code",
   "execution_count": 69,
   "metadata": {},
   "outputs": [
    {
     "name": "stdout",
     "output_type": "stream",
     "text": [
      "행운의 매직볼로 오늘의 운세를 출력합니다.\n",
      "확실히 이루어 집니다.\n"
     ]
    }
   ],
   "source": [
    "print(\"행운의 매직볼로 오늘의 운세를 출력합니다.\")\n",
    "\n",
    "answer = random.randint(1, 8)\n",
    "\n",
    "if(answer== 1):\n",
    "    print(\"확실히 이루어 집니다.\")\n",
    "elif(answer == 2):\n",
    "    print(\"좋아 보이네요\")\n",
    "elif(answer == 3):\n",
    "    print(\"믿으셔도 됩니다.\")\n",
    "elif(answer == 4):\n",
    "    print(\"저의 생각에는 no 입니다.\")\n",
    "else:\n",
    "    print(\"다시 질문해 주세요\")\n",
    "\n",
    "\n"
   ]
  },
  {
   "cell_type": "code",
   "execution_count": 80,
   "metadata": {},
   "outputs": [
    {
     "name": "stdout",
     "output_type": "stream",
     "text": [
      "가위바위보게임을 시작합니다.\n",
      "\n",
      "컴퓨터 : 가위바위보(가위:1, 바위:2, 보:3) : 3\n",
      "컴퓨터 : 가위바위보(가위:1, 바위:2, 보:3) : 3\n",
      "비겼습니다.\n",
      "가위바위보게임을 시작합니다.\n",
      "\n",
      "컴퓨터 : 가위바위보(가위:1, 바위:2, 보:3) : 3\n",
      "컴퓨터 : 가위바위보(가위:1, 바위:2, 보:3) : 3\n",
      "비겼습니다.\n",
      "가위바위보게임을 시작합니다.\n",
      "\n",
      "컴퓨터 : 가위바위보(가위:1, 바위:2, 보:3) : 3\n",
      "컴퓨터 : 가위바위보(가위:1, 바위:2, 보:3) : 1\n",
      "졌습니다.\n",
      "가위바위보게임을 시작합니다.\n",
      "\n",
      "컴퓨터 : 가위바위보(가위:1, 바위:2, 보:3) : 3\n",
      "컴퓨터 : 가위바위보(가위:1, 바위:2, 보:3) : 1\n",
      "졌습니다.\n",
      "가위바위보게임을 시작합니다.\n",
      "\n",
      "컴퓨터 : 가위바위보(가위:1, 바위:2, 보:3) : 3\n",
      "컴퓨터 : 가위바위보(가위:1, 바위:2, 보:3) : 1\n",
      "졌습니다.\n",
      "가위바위보게임을 시작합니다.\n",
      "\n",
      "컴퓨터 : 가위바위보(가위:1, 바위:2, 보:3) : 3\n",
      "컴퓨터 : 가위바위보(가위:1, 바위:2, 보:3) : 2\n",
      "\n",
      "이겼습니다.\n",
      "\n",
      "가위바위보게임을 시작합니다.\n",
      "\n",
      "컴퓨터 : 가위바위보(가위:1, 바위:2, 보:3) : 3\n",
      "컴퓨터 : 가위바위보(가위:1, 바위:2, 보:3) : 3\n",
      "비겼습니다.\n"
     ]
    }
   ],
   "source": [
    "import random\n",
    "\n",
    "c = 1\n",
    "\n",
    "while(c != 0):\n",
    "   \n",
    "\n",
    "    b = random.randint(1, 3)\n",
    "\n",
    "    print(\"\\n가위바위보게임을 시작합니다.\\n\")\n",
    "\n",
    "    a = int(input(\"가위바위보(가위:1, 바위:2, 보:3) : \"))\n",
    "    print(f'컴퓨터 : 가위바위보(가위:1, 바위:2, 보:3) : {a}')\n",
    "    print(f'컴퓨터 : 가위바위보(가위:1, 바위:2, 보:3) : {b}')\n",
    "\n",
    "    if(a==b):\n",
    "        print(\"\\n 비겼습니다.\\n\")\n",
    "    elif((a==1 and b==2)or(a==2 and b==3)or(a==3 and b==1)):\n",
    "        print(\"\\n졌습니다.\\n\")\n",
    "    else:\n",
    "        print(\"\\n이겼습니다.\\n\")\n",
    "    \n",
    "    c = int(input(\"게임을 계속 하실려면 1 아니면 0을 입력하여 주세요\"))\n"
   ]
  },
  {
   "cell_type": "code",
   "execution_count": 9,
   "metadata": {},
   "outputs": [
    {
     "name": "stdout",
     "output_type": "stream",
     "text": [
      "컴퓨터가 당신이 생각하는 숫자즐 알아 맞히는 게임입니다.\n",
      "하나의 숫자를 생각하세요\n",
      "컴퓨터가 제시한 숫자보다 정답이 높으면 High, 낮으면, Low라고 하세요.\n",
      "컴퓨터가 숫자를 맞추면 yes라고 하세요.\n",
      "정답은 22입니다. \n",
      "\n",
      "잘못된 입력입니다.\n",
      "잘못된 입력입니다.\n"
     ]
    }
   ],
   "source": [
    "import random\n",
    "\n",
    "print(\"컴퓨터가 당신이 생각하는 숫자즐 알아 맞히는 게임입니다.\\n하나의 숫자를 생각하세요\\n컴퓨터가 제시한 숫자보다 정답이 높으면 High, 낮으면, Low라고 하세요.\\n컴퓨터가 숫자를 맞추면 yes라고 하세요.\")\n",
    "\n",
    "currentAnswer = random.randint(1, 100)\n",
    "\n",
    "print(f\"정답은 {currentAnswer}입니다. \\n\")\n",
    "\n",
    "i = 0\n",
    "\n",
    "randNumber = random.randint(1,100)\n",
    "\n",
    "a = input(f'숫자가 {randNumber}인가요? ')\n",
    "\n",
    "min_vlaue = 1\n",
    "max_value = 100\n",
    "\n",
    "while(a != 'yes'):\n",
    "    a = input(f'숫자가 {(max_value+min_vlaue)//2}인가요? ')\n",
    "    if(a == \"low\"):\n",
    "        min_vlaue = (max_value+min_vlaue) // 2\n",
    "        \n",
    "    elif(a == \"High\"):\n",
    "        max_value = (max_value+min_vlaue) // 2\n",
    "    else:\n",
    "        print(\"잘못된 입력입니다.\")\n"
   ]
  },
  {
   "cell_type": "code",
   "execution_count": 14,
   "metadata": {},
   "outputs": [
    {
     "name": "stdout",
     "output_type": "stream",
     "text": [
      "\n",
      "1 \n",
      "1 2 \n",
      "1 2 3 \n",
      "1 2 3 4 \n",
      "1 2 3 4 5 \n"
     ]
    }
   ],
   "source": [
    "a = input(\"정수를 입력하시요 : \")\n",
    "\n",
    "for i in range(0, int(a)+1):\n",
    "    for j in range(0, i):\n",
    "        print(j+1, end=\" \")\n",
    "    print(\"\")"
   ]
  },
  {
   "cell_type": "code",
   "execution_count": 17,
   "metadata": {},
   "outputs": [],
   "source": [
    "result = 0\n",
    "\n",
    "a = input(\"n의 값을 입력하시오 : \")"
   ]
  },
  {
   "cell_type": "code",
   "execution_count": 22,
   "metadata": {},
   "outputs": [
    {
     "name": "stdout",
     "output_type": "stream",
     "text": [
      "0 2 4 6 8 10 12 14 16 18 20 22 24 26 28 30 32 34 36 38 40 42 44 46 48 50 "
     ]
    }
   ],
   "source": [
    "for i in range(0, 51):\n",
    "    if(i % 2 == 0):\n",
    "        print(i, end=\" \")"
   ]
  },
  {
   "cell_type": "code",
   "execution_count": 27,
   "metadata": {},
   "outputs": [
    {
     "name": "stdout",
     "output_type": "stream",
     "text": [
      "계산값은 385입니다.\n"
     ]
    }
   ],
   "source": [
    "result = 0\n",
    "a  = int(input(\"n의 값을 입력하세요 : \"))\n",
    "for i in range(1, a+1):\n",
    "    result += i*i\n",
    "    \n",
    "print(f'계산값은 {result}입니다.')"
   ]
  },
  {
   "cell_type": "code",
   "execution_count": 45,
   "metadata": {},
   "outputs": [
    {
     "name": "stdout",
     "output_type": "stream",
     "text": [
      "3와 6의 최대 공약수는 3\n"
     ]
    }
   ],
   "source": [
    "a  = int(input(\"첫 번째 정수를 입력하세요 : \"))\n",
    "b  = int(input(\"두 번째 정수를 입력하세요 : \"))\n",
    "\n",
    "for k in range(1, a+b):\n",
    "    if(a%k == 0 and b%k == 0):\n",
    "        i = k\n",
    "\n",
    "print(f'{a}와 {b}의 최대 공약수는 {i}')"
   ]
  },
  {
   "cell_type": "code",
   "execution_count": 48,
   "metadata": {},
   "outputs": [
    {
     "name": "stdout",
     "output_type": "stream",
     "text": [
      "화씨 온도는 -> 98.6\n",
      "화씨 온도는 -> 37.0\n"
     ]
    }
   ],
   "source": [
    "i = 0\n",
    "while(i != 1):\n",
    "    a = int(input(\"1. 섭씨 온도 -> 화씨온도\\n2. 화씨 온도 -> 섭씨 온도\\n3. 종료\\n메뉴를 선택하세요 : \"))\n",
    "\n",
    "    if(a == 1):\n",
    "        degree = float(input(\"섭씨 온도를 입력해주세요 : \"))\n",
    "        print(f'화씨 온도는 -> {(degree * 9/5)+ 32}')\n",
    "    elif(a == 2):\n",
    "        degree = float(input(\"화씨 온도를 입력해주세요 : \"))\n",
    "        print(f'화씨 온도는 -> {(degree-32)*5/9}')\n",
    "    elif(a==3):\n",
    "        i = 1\n",
    "    else:\n",
    "        print(\"잘못된 입력입니다.\")\n"
   ]
  },
  {
   "cell_type": "code",
   "execution_count": 11,
   "metadata": {},
   "outputs": [
    {
     "name": "stdout",
     "output_type": "stream",
     "text": [
      "잔액이 없습니다.\n",
      "현재 입금된 돈은 1000원 입니다.\n",
      "잔액은 500 입니다.\n",
      "돈이 부족합니다.\n",
      "잔액은 500 입니다.\n"
     ]
    }
   ],
   "source": [
    "def moneyAdd(moneyCount: int,money: int):\n",
    "    moneyCount += money\n",
    "    return moneyCount\n",
    "\n",
    "def moneyOut(moneyCount: int, money: int) -> bool: \n",
    "    if moneyCount < money:\n",
    "        print(\"돈이 부족합니다.\")\n",
    "        return False\n",
    "    else:\n",
    "        moneyCount -= money\n",
    "        return moneyCount\n",
    "\n",
    "def moneyGoToAny(moneyCount: int, name: str, money: int) -> bool:\n",
    "    if moneyCount < money:\n",
    "        print(\"돈이 부족합니다.\")\n",
    "        return False\n",
    "    else:\n",
    "        moneyCount -= money\n",
    "        return moneyCount\n",
    "\n",
    "def moneyStart():\n",
    "    moneyCount: int = 0\n",
    "    passwordInit: int = 0\n",
    "    truePassword: int = 0\n",
    "    startNumber: int = 1\n",
    "    while(startNumber != 0):\n",
    "        if(passwordInit != 0):\n",
    "            truePassword =  (int(input(\"비밀 번호 입력 : \")))\n",
    "            if(truePassword == passwordInit):\n",
    "                number: int = 0\n",
    "                while(number !=4):\n",
    "                    number = int(input(\"1- 잔액보기, 2- 인출, 3- 저금, 4-종료\"))\n",
    "                    if(number == 1):\n",
    "                        if(moneyCount == 0): print(\"잔액이 없습니다.\")\n",
    "                        else: print(f'잔액은 {moneyCount} 입니다.')\n",
    "                    elif(number == 2):\n",
    "                        money = int(input(\"돈을 얼마나 인출하실 건가요? : \"))\n",
    "                        a = moneyOut(moneyCount=moneyCount,money=money)\n",
    "                        moneyCount = a if a != False else moneyCount=moneyCount\n",
    "                    elif(number == 3):\n",
    "                        money = int(input(\"돈을 얼마나 저금하실 건가요? : \"))\n",
    "                        a = moneyAdd(moneyCount=moneyCount,money=money) \n",
    "                        if(a != False):\n",
    "                            moneyCount = a\n",
    "                            print(f'현재 입금된 돈은 {moneyCount}원 입니다.')\n",
    "                    elif(number == 4):\n",
    "                        startNumber = 0\n",
    "                    else:\n",
    "                        print(\"잘못된 입력입니다.\")\n",
    "            else:\n",
    "                print(\"비밀번호가 틀렸습니다.\")\n",
    "        elif(passwordInit == 0):\n",
    "            passwordInit = int(input(\"생성할 비밀번호를 입력하여 주세요 : \"))\n",
    "    \n",
    "\n",
    "\n",
    "\n",
    "\n",
    "def main():\n",
    "    moneyStart()\n",
    "\n",
    "if __name__ == \"__main__\":\n",
    "    main()"
   ]
  },
  {
   "cell_type": "code",
   "execution_count": 3,
   "metadata": {},
   "outputs": [],
   "source": [
    "li = [10.0, 9.0, 8.3, 7.1, 3.0, 9.0]\n",
    "li.remove(min(li))\n",
    "li.remove(max(li))"
   ]
  },
  {
   "cell_type": "code",
   "execution_count": 4,
   "metadata": {},
   "outputs": [
    {
     "data": {
      "text/plain": [
       "[9.0, 8.3, 7.1, 9.0]"
      ]
     },
     "execution_count": 4,
     "metadata": {},
     "output_type": "execute_result"
    }
   ],
   "source": [
    "li"
   ]
  },
  {
   "cell_type": "code",
   "execution_count": null,
   "metadata": {},
   "outputs": [],
   "source": [
    "li = []\n",
    "\n",
    "for i in range(0, 5):\n",
    "    int(input(\"성적을 입려하세요\"))"
   ]
  },
  {
   "cell_type": "code",
   "execution_count": 6,
   "metadata": {},
   "outputs": [
    {
     "name": "stdout",
     "output_type": "stream",
     "text": [
      "\u001b[31mERROR: Could not find a version that satisfies the requirement matplolib (from versions: none)\u001b[0m\u001b[31m\n",
      "\u001b[0m\u001b[31mERROR: No matching distribution found for matplolib\u001b[0m\u001b[31m\n",
      "\u001b[0mNote: you may need to restart the kernel to use updated packages.\n"
     ]
    }
   ],
   "source": [
    "%pip install matplolib"
   ]
  },
  {
   "cell_type": "code",
   "execution_count": null,
   "metadata": {},
   "outputs": [],
   "source": []
  }
 ],
 "metadata": {
  "kernelspec": {
   "display_name": "Python 3",
   "language": "python",
   "name": "python3"
  },
  "language_info": {
   "codemirror_mode": {
    "name": "ipython",
    "version": 3
   },
   "file_extension": ".py",
   "mimetype": "text/x-python",
   "name": "python",
   "nbconvert_exporter": "python",
   "pygments_lexer": "ipython3",
   "version": "3.11.7"
  }
 },
 "nbformat": 4,
 "nbformat_minor": 2
}
