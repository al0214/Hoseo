{
 "cells": [
  {
   "cell_type": "code",
   "execution_count": 2,
   "metadata": {},
   "outputs": [
    {
     "name": "stdout",
     "output_type": "stream",
     "text": [
      "OBS_AMOS_DD_20240710011058.csv  main.ipynb\n"
     ]
    }
   ],
   "source": [
    "%ls"
   ]
  },
  {
   "cell_type": "code",
   "execution_count": 1,
   "metadata": {},
   "outputs": [],
   "source": [
    "import pandas as pd"
   ]
  },
  {
   "cell_type": "code",
   "execution_count": null,
   "metadata": {},
   "outputs": [],
   "source": []
  },
  {
   "cell_type": "code",
   "execution_count": 13,
   "metadata": {},
   "outputs": [],
   "source": [
    "a = pd.read_csv(\"avc.csv\")"
   ]
  },
  {
   "cell_type": "code",
   "execution_count": 22,
   "metadata": {},
   "outputs": [],
   "source": [
    "gimpo = a[a['지점명'] == '김포공항']"
   ]
  },
  {
   "cell_type": "code",
   "execution_count": 25,
   "metadata": {},
   "outputs": [
    {
     "data": {
      "text/html": [
       "<div>\n",
       "<style scoped>\n",
       "    .dataframe tbody tr th:only-of-type {\n",
       "        vertical-align: middle;\n",
       "    }\n",
       "\n",
       "    .dataframe tbody tr th {\n",
       "        vertical-align: top;\n",
       "    }\n",
       "\n",
       "    .dataframe thead th {\n",
       "        text-align: right;\n",
       "    }\n",
       "</style>\n",
       "<table border=\"1\" class=\"dataframe\">\n",
       "  <thead>\n",
       "    <tr style=\"text-align: right;\">\n",
       "      <th></th>\n",
       "      <th>지점</th>\n",
       "      <th>지점명</th>\n",
       "      <th>일시</th>\n",
       "      <th>평균풍속(KT)</th>\n",
       "      <th>최대풍속(KT)</th>\n",
       "      <th>최대순간풍속(KT)</th>\n",
       "      <th>최대풍속 나타난시각(hhmi)</th>\n",
       "      <th>최대순간풍속 나타난시각(hhmi)</th>\n",
       "      <th>최대풍속 풍향(deg)</th>\n",
       "      <th>최대순간풍속 풍향(deg)</th>\n",
       "      <th>...</th>\n",
       "      <th>1시간최다강수 시각(hhmi)</th>\n",
       "      <th>30분최다강수(mm)</th>\n",
       "      <th>10분최다강수(mm)</th>\n",
       "      <th>최심신적설(cm)</th>\n",
       "      <th>최심적설(cm)</th>\n",
       "      <th>평균운량(1/8)</th>\n",
       "      <th>5/8이상최저운고(FT)</th>\n",
       "      <th>평균이슬점온도(°C)</th>\n",
       "      <th>평균상대습도(%)</th>\n",
       "      <th>기사란</th>\n",
       "    </tr>\n",
       "  </thead>\n",
       "  <tbody>\n",
       "    <tr>\n",
       "      <th>109</th>\n",
       "      <td>110</td>\n",
       "      <td>김포공항</td>\n",
       "      <td>2020-04-19</td>\n",
       "      <td>5.7</td>\n",
       "      <td>13</td>\n",
       "      <td>18</td>\n",
       "      <td>1141</td>\n",
       "      <td>823</td>\n",
       "      <td>110</td>\n",
       "      <td>100</td>\n",
       "      <td>...</td>\n",
       "      <td>1548.0</td>\n",
       "      <td>2.0</td>\n",
       "      <td>1.1</td>\n",
       "      <td>NaN</td>\n",
       "      <td>NaN</td>\n",
       "      <td>7.5</td>\n",
       "      <td>2500.0</td>\n",
       "      <td>8.3</td>\n",
       "      <td>81</td>\n",
       "      <td>{박무}100-800. {비}1413-2152. {연무}1500-1600. {박무}...</td>\n",
       "    </tr>\n",
       "    <tr>\n",
       "      <th>138</th>\n",
       "      <td>110</td>\n",
       "      <td>김포공항</td>\n",
       "      <td>2020-05-18</td>\n",
       "      <td>6.6</td>\n",
       "      <td>24</td>\n",
       "      <td>36</td>\n",
       "      <td>1539</td>\n",
       "      <td>1530</td>\n",
       "      <td>290</td>\n",
       "      <td>300</td>\n",
       "      <td>...</td>\n",
       "      <td>1526.0</td>\n",
       "      <td>13.5</td>\n",
       "      <td>9.5</td>\n",
       "      <td>NaN</td>\n",
       "      <td>NaN</td>\n",
       "      <td>7.3</td>\n",
       "      <td>2500.0</td>\n",
       "      <td>16.0</td>\n",
       "      <td>88</td>\n",
       "      <td>{박무}0-1200. {비}630-648. {연무}1200-1300. {비}1518...</td>\n",
       "    </tr>\n",
       "    <tr>\n",
       "      <th>144</th>\n",
       "      <td>110</td>\n",
       "      <td>김포공항</td>\n",
       "      <td>2020-05-24</td>\n",
       "      <td>7.2</td>\n",
       "      <td>18</td>\n",
       "      <td>30</td>\n",
       "      <td>647</td>\n",
       "      <td>643</td>\n",
       "      <td>230</td>\n",
       "      <td>240</td>\n",
       "      <td>...</td>\n",
       "      <td>530.0</td>\n",
       "      <td>9.0</td>\n",
       "      <td>7.8</td>\n",
       "      <td>NaN</td>\n",
       "      <td>NaN</td>\n",
       "      <td>6.7</td>\n",
       "      <td>500.0</td>\n",
       "      <td>15.3</td>\n",
       "      <td>90</td>\n",
       "      <td>{비}0-532. {박무}0-1229. {뇌전과 비 또는 뇌전과 눈 또는 뇌전과 진...</td>\n",
       "    </tr>\n",
       "    <tr>\n",
       "      <th>175</th>\n",
       "      <td>110</td>\n",
       "      <td>김포공항</td>\n",
       "      <td>2020-06-24</td>\n",
       "      <td>8.0</td>\n",
       "      <td>17</td>\n",
       "      <td>26</td>\n",
       "      <td>1142</td>\n",
       "      <td>1133</td>\n",
       "      <td>110</td>\n",
       "      <td>120</td>\n",
       "      <td>...</td>\n",
       "      <td>950.0</td>\n",
       "      <td>2.6</td>\n",
       "      <td>1.8</td>\n",
       "      <td>NaN</td>\n",
       "      <td>NaN</td>\n",
       "      <td>8.0</td>\n",
       "      <td>400.0</td>\n",
       "      <td>19.8</td>\n",
       "      <td>88</td>\n",
       "      <td>{비}445-543. {박무}500-543. {비}718-735. {비}746-24...</td>\n",
       "    </tr>\n",
       "    <tr>\n",
       "      <th>181</th>\n",
       "      <td>110</td>\n",
       "      <td>김포공항</td>\n",
       "      <td>2020-06-30</td>\n",
       "      <td>10.8</td>\n",
       "      <td>20</td>\n",
       "      <td>29</td>\n",
       "      <td>1636</td>\n",
       "      <td>1629</td>\n",
       "      <td>10</td>\n",
       "      <td>10</td>\n",
       "      <td>...</td>\n",
       "      <td>350.0</td>\n",
       "      <td>9.6</td>\n",
       "      <td>4.1</td>\n",
       "      <td>NaN</td>\n",
       "      <td>NaN</td>\n",
       "      <td>8.0</td>\n",
       "      <td>3000.0</td>\n",
       "      <td>18.2</td>\n",
       "      <td>91</td>\n",
       "      <td>{비}0-1000. {박무}0-1000. {비}1100-1318. {비}1552-1...</td>\n",
       "    </tr>\n",
       "    <tr>\n",
       "      <th>...</th>\n",
       "      <td>...</td>\n",
       "      <td>...</td>\n",
       "      <td>...</td>\n",
       "      <td>...</td>\n",
       "      <td>...</td>\n",
       "      <td>...</td>\n",
       "      <td>...</td>\n",
       "      <td>...</td>\n",
       "      <td>...</td>\n",
       "      <td>...</td>\n",
       "      <td>...</td>\n",
       "      <td>...</td>\n",
       "      <td>...</td>\n",
       "      <td>...</td>\n",
       "      <td>...</td>\n",
       "      <td>...</td>\n",
       "      <td>...</td>\n",
       "      <td>...</td>\n",
       "      <td>...</td>\n",
       "      <td>...</td>\n",
       "      <td>...</td>\n",
       "    </tr>\n",
       "    <tr>\n",
       "      <th>1363</th>\n",
       "      <td>110</td>\n",
       "      <td>김포공항</td>\n",
       "      <td>2023-09-26</td>\n",
       "      <td>5.2</td>\n",
       "      <td>9</td>\n",
       "      <td>13</td>\n",
       "      <td>56</td>\n",
       "      <td>620</td>\n",
       "      <td>130</td>\n",
       "      <td>110</td>\n",
       "      <td>...</td>\n",
       "      <td>208.0</td>\n",
       "      <td>4.0</td>\n",
       "      <td>1.8</td>\n",
       "      <td>NaN</td>\n",
       "      <td>NaN</td>\n",
       "      <td>8.0</td>\n",
       "      <td>500.0</td>\n",
       "      <td>19.5</td>\n",
       "      <td>97</td>\n",
       "      <td>{비}0-2200. {비}2231-2400.</td>\n",
       "    </tr>\n",
       "    <tr>\n",
       "      <th>1367</th>\n",
       "      <td>110</td>\n",
       "      <td>김포공항</td>\n",
       "      <td>2023-09-30</td>\n",
       "      <td>6.3</td>\n",
       "      <td>13</td>\n",
       "      <td>20</td>\n",
       "      <td>1534</td>\n",
       "      <td>1511</td>\n",
       "      <td>240</td>\n",
       "      <td>210</td>\n",
       "      <td>...</td>\n",
       "      <td>1126.0</td>\n",
       "      <td>1.4</td>\n",
       "      <td>1.3</td>\n",
       "      <td>NaN</td>\n",
       "      <td>NaN</td>\n",
       "      <td>5.0</td>\n",
       "      <td>2000.0</td>\n",
       "      <td>16.0</td>\n",
       "      <td>81</td>\n",
       "      <td>{비}100-342. {비}1003-1242. {비}1325-1400.</td>\n",
       "    </tr>\n",
       "    <tr>\n",
       "      <th>1371</th>\n",
       "      <td>110</td>\n",
       "      <td>김포공항</td>\n",
       "      <td>2023-10-04</td>\n",
       "      <td>5.0</td>\n",
       "      <td>15</td>\n",
       "      <td>22</td>\n",
       "      <td>2326</td>\n",
       "      <td>2322</td>\n",
       "      <td>310</td>\n",
       "      <td>320</td>\n",
       "      <td>...</td>\n",
       "      <td>1627.0</td>\n",
       "      <td>32.9</td>\n",
       "      <td>14.0</td>\n",
       "      <td>NaN</td>\n",
       "      <td>NaN</td>\n",
       "      <td>4.5</td>\n",
       "      <td>2500.0</td>\n",
       "      <td>13.6</td>\n",
       "      <td>83</td>\n",
       "      <td>{안개 또는 어는안개 또는 빙무}600-700. {비}1600-1639. {}162...</td>\n",
       "    </tr>\n",
       "    <tr>\n",
       "      <th>1381</th>\n",
       "      <td>110</td>\n",
       "      <td>김포공항</td>\n",
       "      <td>2023-10-14</td>\n",
       "      <td>3.3</td>\n",
       "      <td>13</td>\n",
       "      <td>15</td>\n",
       "      <td>757</td>\n",
       "      <td>750</td>\n",
       "      <td>130</td>\n",
       "      <td>140</td>\n",
       "      <td>...</td>\n",
       "      <td>1107.0</td>\n",
       "      <td>2.0</td>\n",
       "      <td>1.4</td>\n",
       "      <td>NaN</td>\n",
       "      <td>NaN</td>\n",
       "      <td>4.4</td>\n",
       "      <td>2500.0</td>\n",
       "      <td>12.3</td>\n",
       "      <td>89</td>\n",
       "      <td>{박무}400-1010. {비}700-900. {비}920-942. {비}1010-...</td>\n",
       "    </tr>\n",
       "    <tr>\n",
       "      <th>1386</th>\n",
       "      <td>110</td>\n",
       "      <td>김포공항</td>\n",
       "      <td>2023-10-19</td>\n",
       "      <td>4.7</td>\n",
       "      <td>9</td>\n",
       "      <td>15</td>\n",
       "      <td>540</td>\n",
       "      <td>531</td>\n",
       "      <td>190</td>\n",
       "      <td>190</td>\n",
       "      <td>...</td>\n",
       "      <td>637.0</td>\n",
       "      <td>8.6</td>\n",
       "      <td>5.4</td>\n",
       "      <td>NaN</td>\n",
       "      <td>NaN</td>\n",
       "      <td>7.3</td>\n",
       "      <td>2500.0</td>\n",
       "      <td>13.8</td>\n",
       "      <td>83</td>\n",
       "      <td>{비}625-800. {박무}800-819. {비}819-900. {박무}900-1...</td>\n",
       "    </tr>\n",
       "  </tbody>\n",
       "</table>\n",
       "<p>126 rows × 30 columns</p>\n",
       "</div>"
      ],
      "text/plain": [
       "       지점   지점명          일시  평균풍속(KT)  최대풍속(KT) 최대순간풍속(KT)  최대풍속 나타난시각(hhmi)  \\\n",
       "109   110  김포공항  2020-04-19       5.7        13         18              1141   \n",
       "138   110  김포공항  2020-05-18       6.6        24         36              1539   \n",
       "144   110  김포공항  2020-05-24       7.2        18         30               647   \n",
       "175   110  김포공항  2020-06-24       8.0        17         26              1142   \n",
       "181   110  김포공항  2020-06-30      10.8        20         29              1636   \n",
       "...   ...   ...         ...       ...       ...        ...               ...   \n",
       "1363  110  김포공항  2023-09-26       5.2         9         13                56   \n",
       "1367  110  김포공항  2023-09-30       6.3        13         20              1534   \n",
       "1371  110  김포공항  2023-10-04       5.0        15         22              2326   \n",
       "1381  110  김포공항  2023-10-14       3.3        13         15               757   \n",
       "1386  110  김포공항  2023-10-19       4.7         9         15               540   \n",
       "\n",
       "      최대순간풍속 나타난시각(hhmi)  최대풍속 풍향(deg)  최대순간풍속 풍향(deg)  ...  1시간최다강수 시각(hhmi)  \\\n",
       "109                  823           110             100  ...            1548.0   \n",
       "138                 1530           290             300  ...            1526.0   \n",
       "144                  643           230             240  ...             530.0   \n",
       "175                 1133           110             120  ...             950.0   \n",
       "181                 1629            10              10  ...             350.0   \n",
       "...                  ...           ...             ...  ...               ...   \n",
       "1363                 620           130             110  ...             208.0   \n",
       "1367                1511           240             210  ...            1126.0   \n",
       "1371                2322           310             320  ...            1627.0   \n",
       "1381                 750           130             140  ...            1107.0   \n",
       "1386                 531           190             190  ...             637.0   \n",
       "\n",
       "      30분최다강수(mm)  10분최다강수(mm)  최심신적설(cm)  최심적설(cm)  평균운량(1/8)  5/8이상최저운고(FT)  \\\n",
       "109           2.0          1.1        NaN       NaN        7.5         2500.0   \n",
       "138          13.5          9.5        NaN       NaN        7.3         2500.0   \n",
       "144           9.0          7.8        NaN       NaN        6.7          500.0   \n",
       "175           2.6          1.8        NaN       NaN        8.0          400.0   \n",
       "181           9.6          4.1        NaN       NaN        8.0         3000.0   \n",
       "...           ...          ...        ...       ...        ...            ...   \n",
       "1363          4.0          1.8        NaN       NaN        8.0          500.0   \n",
       "1367          1.4          1.3        NaN       NaN        5.0         2000.0   \n",
       "1371         32.9         14.0        NaN       NaN        4.5         2500.0   \n",
       "1381          2.0          1.4        NaN       NaN        4.4         2500.0   \n",
       "1386          8.6          5.4        NaN       NaN        7.3         2500.0   \n",
       "\n",
       "      평균이슬점온도(°C)  평균상대습도(%)  \\\n",
       "109           8.3         81   \n",
       "138          16.0         88   \n",
       "144          15.3         90   \n",
       "175          19.8         88   \n",
       "181          18.2         91   \n",
       "...           ...        ...   \n",
       "1363         19.5         97   \n",
       "1367         16.0         81   \n",
       "1371         13.6         83   \n",
       "1381         12.3         89   \n",
       "1386         13.8         83   \n",
       "\n",
       "                                                    기사란  \n",
       "109   {박무}100-800. {비}1413-2152. {연무}1500-1600. {박무}...  \n",
       "138   {박무}0-1200. {비}630-648. {연무}1200-1300. {비}1518...  \n",
       "144   {비}0-532. {박무}0-1229. {뇌전과 비 또는 뇌전과 눈 또는 뇌전과 진...  \n",
       "175   {비}445-543. {박무}500-543. {비}718-735. {비}746-24...  \n",
       "181   {비}0-1000. {박무}0-1000. {비}1100-1318. {비}1552-1...  \n",
       "...                                                 ...  \n",
       "1363                           {비}0-2200. {비}2231-2400.  \n",
       "1367            {비}100-342. {비}1003-1242. {비}1325-1400.  \n",
       "1371  {안개 또는 어는안개 또는 빙무}600-700. {비}1600-1639. {}162...  \n",
       "1381  {박무}400-1010. {비}700-900. {비}920-942. {비}1010-...  \n",
       "1386  {비}625-800. {박무}800-819. {비}819-900. {박무}900-1...  \n",
       "\n",
       "[126 rows x 30 columns]"
      ]
     },
     "execution_count": 25,
     "metadata": {},
     "output_type": "execute_result"
    }
   ],
   "source": [
    "gimpo[ gimpo['10분최다강수(mm)'] > 1]"
   ]
  },
  {
   "cell_type": "code",
   "execution_count": 169,
   "metadata": {},
   "outputs": [],
   "source": [
    "import requests\n",
    "response = requests.get(\"https://apihub.kma.go.kr/api/typ02/openApi/AmmIwxxmService/getMetar?pageNo=1&numOfRows=10&dataType=json&icao=RKSI&authKey=rhhH3HsXRjKYR9x7F4YyCg\") # 파일 URL에 GET 요청 보내기\n",
    "\n",
    "with open(\"./data.xml\", 'wb') as f:\n",
    "    f.write(response.content)\n",
    "\n",
    "# https://apihub.kma.go.kr/api/typ01/url/amos.php?tm=202211301200&dtm=60&stn=&help=1&authKey=rhhH3HsXRjKYR9x7F4YyCg"
   ]
  },
  {
   "cell_type": "code",
   "execution_count": 170,
   "metadata": {},
   "outputs": [],
   "source": [
    "y = pd.read_json(\"./data.json\")\n",
    "b = y['response']['body']['items']['item'][0]['metarMsg']"
   ]
  },
  {
   "cell_type": "code",
   "execution_count": 171,
   "metadata": {},
   "outputs": [],
   "source": [
    "startMetar = b.find(\"msgText\")\n",
    "endMetar = b.find(\"/msgText\")"
   ]
  },
  {
   "cell_type": "code",
   "execution_count": 172,
   "metadata": {},
   "outputs": [],
   "source": [
    "metarData = b[startMetar:endMetar]"
   ]
  },
  {
   "cell_type": "code",
   "execution_count": 173,
   "metadata": {},
   "outputs": [],
   "source": [
    "mearDataSplit = metarData.split(' ')"
   ]
  },
  {
   "cell_type": "code",
   "execution_count": 174,
   "metadata": {},
   "outputs": [
    {
     "data": {
      "text/plain": [
       "'msgText>METAR'"
      ]
     },
     "execution_count": 174,
     "metadata": {},
     "output_type": "execute_result"
    }
   ],
   "source": [
    "mearDataSplit[0]"
   ]
  },
  {
   "cell_type": "code",
   "execution_count": 175,
   "metadata": {},
   "outputs": [],
   "source": [
    "u = []\n",
    "for i in range(1, len(mearDataSplit)):\n",
    "    if mearDataSplit[i] != '':\n",
    "        u.append(mearDataSplit[i])"
   ]
  },
  {
   "cell_type": "code",
   "execution_count": 176,
   "metadata": {},
   "outputs": [
    {
     "data": {
      "text/plain": [
       "['RKSI',\n",
       " '091630Z',\n",
       " '06005KT',\n",
       " '360V060',\n",
       " '9999',\n",
       " 'BKN010',\n",
       " 'BKN030',\n",
       " 'OVC070&#13;\\n',\n",
       " '24/22',\n",
       " 'Q1002',\n",
       " 'BECMG',\n",
       " '-RA=<']"
      ]
     },
     "execution_count": 176,
     "metadata": {},
     "output_type": "execute_result"
    }
   ],
   "source": [
    "u"
   ]
  },
  {
   "cell_type": "code",
   "execution_count": null,
   "metadata": {},
   "outputs": [],
   "source": []
  },
  {
   "cell_type": "code",
   "execution_count": 107,
   "metadata": {},
   "outputs": [],
   "source": [
    "import requests\n",
    "response = requests.get(\"https://apihub.kma.go.kr/api/typ01/url/amos.php?dtm=60&help=0&authKey=rhhH3HsXRjKYR9x7F4YyCg\") # 파일 URL에 GET 요청 보내기\n",
    "\n",
    "\n",
    "\n"
   ]
  },
  {
   "cell_type": "code",
   "execution_count": 113,
   "metadata": {},
   "outputs": [],
   "source": [
    "response2 = requests.get(\"https://apihub.kma.go.kr/api/typ01/url/amos.php?dtm=60&help=1&authKey=rhhH3HsXRjKYR9x7F4YyCg\") # 파일 URL에 GET 요청 보내기\n"
   ]
  },
  {
   "cell_type": "code",
   "execution_count": 133,
   "metadata": {},
   "outputs": [],
   "source": [
    "with open(\"./AMOS2.xlsx\", 'wb') as f:\n",
    "    f.write(response.content)"
   ]
  },
  {
   "cell_type": "code",
   "execution_count": 137,
   "metadata": {},
   "outputs": [],
   "source": [
    "o = pd.read_csv(\"AMOS.csv\")"
   ]
  },
  {
   "cell_type": "code",
   "execution_count": 163,
   "metadata": {},
   "outputs": [
    {
     "name": "stderr",
     "output_type": "stream",
     "text": [
      "/var/folders/fy/h0_mgq7926d7ggr2rkt29cz80000gn/T/ipykernel_73142/3021654083.py:1: FutureWarning: Series.__getitem__ treating keys as positions is deprecated. In a future version, integer keys will always be treated as labels (consistent with DataFrame behavior). To access a value by position, use `ser.iloc[pos]`\n",
      "  k = o.loc[2][0]\n"
     ]
    }
   ],
   "source": [
    "k = o.loc[2][0]"
   ]
  },
  {
   "cell_type": "code",
   "execution_count": 168,
   "metadata": {},
   "outputs": [
    {
     "data": {
      "text/plain": [
       "['  92 202407100114',\n",
       " '1600 -99999',\n",
       " '2000 -99999',\n",
       " ' 300',\n",
       " ' 221',\n",
       " ' 218',\n",
       " '  98  10040',\n",
       " '9964',\n",
       " '',\n",
       " '0 -99999 -99999',\n",
       " '  80',\n",
       " ' 100',\n",
       " '  30',\n",
       " '  14',\n",
       " '  19',\n",
       " '',\n",
       " '7',\n",
       " '  50',\n",
       " '  50',\n",
       " '',\n",
       " '0',\n",
       " '',\n",
       " '8',\n",
       " '  19',\n",
       " '',\n",
       " '1']"
      ]
     },
     "execution_count": 168,
     "metadata": {},
     "output_type": "execute_result"
    }
   ],
   "source": [
    "k.split(\"   \")"
   ]
  },
  {
   "cell_type": "code",
   "execution_count": 192,
   "metadata": {},
   "outputs": [],
   "source": [
    "import requests\n",
    "response = requests.get('http://openapi.foodsafetykorea.go.kr/api/cc1b2a587a5a42d09890/COOKRCP01/xml/1/5/RCP_NM=\"\"&RCP_PARTS_DTLS=\"달걀\"') # 파일 URL에 GET 요청 보내기"
   ]
  },
  {
   "cell_type": "code",
   "execution_count": 193,
   "metadata": {},
   "outputs": [],
   "source": [
    "with open(\"./recipe.xml\", 'wb') as f:\n",
    "    f.write(response.content)\n",
    "with open(\"./recipe.xml\", 'r') as f:\n",
    "    a.append(f.readlines())"
   ]
  },
  {
   "cell_type": "code",
   "execution_count": 196,
   "metadata": {},
   "outputs": [],
   "source": [
    "a = []"
   ]
  },
  {
   "cell_type": "code",
   "execution_count": 197,
   "metadata": {},
   "outputs": [],
   "source": []
  },
  {
   "cell_type": "code",
   "execution_count": 198,
   "metadata": {},
   "outputs": [
    {
     "data": {
      "text/plain": [
       "[['<?xml version=\"1.0\" encoding=\"UTF-8\"?>\\n',\n",
       "  '<COOKRCP01>\\n',\n",
       "  '  <total_count>194</total_count>\\n',\n",
       "  '  <RESULT>\\n',\n",
       "  '    <CODE>INFO-000</CODE>\\n',\n",
       "  '    <MSG>정상처리되었습니다.</MSG>\\n',\n",
       "  '  </RESULT>\\n',\n",
       "  '  <row id=\"0\">\\n',\n",
       "  '    <RCP_PARTS_DTLS>새우두부계란찜\\n',\n",
       "  '연두부 75g(3/4모), 칵테일새우 20g(5마리), 달걀 30g(1/2개), 생크림 13g(1큰술), 설탕 5g(1작은술), 무염버터 5g(1작은술)\\n',\n",
       "  '고명\\n',\n",
       "  '시금치 10g(3줄기)</RCP_PARTS_DTLS>\\n',\n",
       "  '    <RCP_WAY2>찌기</RCP_WAY2>\\n',\n",
       "  '    <MANUAL_IMG20 />\\n',\n",
       "  '    <MANUAL20 />\\n',\n",
       "  '    <RCP_SEQ>28</RCP_SEQ>\\n',\n",
       "  '    <INFO_NA>99</INFO_NA>\\n',\n",
       "  '    <INFO_WGT />\\n',\n",
       "  '    <INFO_PRO>14</INFO_PRO>\\n',\n",
       "  '    <MANUAL_IMG13 />\\n',\n",
       "  '    <MANUAL_IMG14 />\\n',\n",
       "  '    <MANUAL_IMG15 />\\n',\n",
       "  '    <MANUAL_IMG16 />\\n',\n",
       "  '    <MANUAL_IMG10 />\\n',\n",
       "  '    <MANUAL_IMG11 />\\n',\n",
       "  '    <MANUAL_IMG12 />\\n',\n",
       "  '    <MANUAL_IMG17 />\\n',\n",
       "  '    <MANUAL_IMG18 />\\n',\n",
       "  '    <MANUAL_IMG19 />\\n',\n",
       "  '    <INFO_FAT>17</INFO_FAT>\\n',\n",
       "  '    <HASH_TAG>연두부</HASH_TAG>\\n',\n",
       "  '    <MANUAL_IMG02>http://www.foodsafetykorea.go.kr/uploadimg/cook/20_00028_2.png</MANUAL_IMG02>\\n',\n",
       "  '    <MANUAL_IMG03>http://www.foodsafetykorea.go.kr/uploadimg/cook/20_00028_3.png</MANUAL_IMG03>\\n',\n",
       "  '    <RCP_PAT2>반찬</RCP_PAT2>\\n',\n",
       "  '    <MANUAL_IMG04 />\\n',\n",
       "  '    <MANUAL_IMG05 />\\n',\n",
       "  '    <MANUAL_IMG01>http://www.foodsafetykorea.go.kr/uploadimg/cook/20_00028_1.png</MANUAL_IMG01>\\n',\n",
       "  '    <MANUAL01>1. 손질된 새우를 끓는 물에 데쳐 건진다.a</MANUAL01>\\n',\n",
       "  '    <ATT_FILE_NO_MK>http://www.foodsafetykorea.go.kr/uploadimg/cook/10_00028_1.png</ATT_FILE_NO_MK>\\n',\n",
       "  '    <MANUAL_IMG06 />\\n',\n",
       "  '    <MANUAL_IMG07 />\\n',\n",
       "  '    <MANUAL_IMG08 />\\n',\n",
       "  '    <MANUAL_IMG09 />\\n',\n",
       "  '    <MANUAL08 />\\n',\n",
       "  '    <MANUAL09 />\\n',\n",
       "  '    <MANUAL06 />\\n',\n",
       "  '    <MANUAL07 />\\n',\n",
       "  '    <MANUAL04 />\\n',\n",
       "  '    <MANUAL05 />\\n',\n",
       "  '    <MANUAL02>2. 연두부, 달걀, 생크림, 설탕에 녹인 무염버터를 믹서에 넣고 간 뒤 새우(1)를 함께 섞어 그릇에 담는다.b</MANUAL02>\\n',\n",
       "  '    <MANUAL03>3. 시금치를 잘게 다져 혼합물 그릇(2)에 뿌리고 찜기에 넣고 중간 불에서 10분 정도 찐다.c</MANUAL03>\\n',\n",
       "  '    <ATT_FILE_NO_MAIN>http://www.foodsafetykorea.go.kr/uploadimg/cook/10_00028_2.png</ATT_FILE_NO_MAIN>\\n',\n",
       "  '    <MANUAL11 />\\n',\n",
       "  '    <MANUAL12 />\\n',\n",
       "  '    <MANUAL10 />\\n',\n",
       "  '    <INFO_CAR>3</INFO_CAR>\\n',\n",
       "  '    <MANUAL19 />\\n',\n",
       "  '    <RCP_NA_TIP>나트륨의 배출을 도와주는 것으로 알려진 칼륨이 풍부한 시금치와 소금, 간장 등의 양념 대신 새우에 들어있는 간으로 맛을 내요.</RCP_NA_TIP>\\n',\n",
       "  '    <INFO_ENG>220</INFO_ENG>\\n',\n",
       "  '    <MANUAL17 />\\n',\n",
       "  '    <MANUAL18 />\\n',\n",
       "  '    <RCP_NM>새우 두부 계란찜</RCP_NM>\\n',\n",
       "  '    <MANUAL15 />\\n',\n",
       "  '    <MANUAL16 />\\n',\n",
       "  '    <MANUAL13 />\\n',\n",
       "  '    <MANUAL14 />\\n',\n",
       "  '  </row>\\n',\n",
       "  '  <row id=\"1\">\\n',\n",
       "  '    <RCP_PARTS_DTLS>●주재료\\n',\n",
       "  '실곤약 440g, 검은콩 70g, 볶은 흑임자 6g(1작은술), 호두 6g(1알)\\n',\n",
       "  '●장식\\n',\n",
       "  '오이 20g(1/8개), 토마토 50g(1/2개), 달걀 50g(1개)</RCP_PARTS_DTLS>\\n',\n",
       "  '    <RCP_WAY2>끓이기</RCP_WAY2>\\n',\n",
       "  '    <MANUAL_IMG20 />\\n',\n",
       "  '    <MANUAL20 />\\n',\n",
       "  '    <RCP_SEQ>113</RCP_SEQ>\\n',\n",
       "  '    <INFO_NA>18.5</INFO_NA>\\n',\n",
       "  '    <INFO_WGT />\\n',\n",
       "  '    <INFO_PRO>3.4</INFO_PRO>\\n',\n",
       "  '    <MANUAL_IMG13 />\\n',\n",
       "  '    <MANUAL_IMG14 />\\n',\n",
       "  '    <MANUAL_IMG15 />\\n',\n",
       "  '    <MANUAL_IMG16 />\\n',\n",
       "  '    <MANUAL_IMG10 />\\n',\n",
       "  '    <MANUAL_IMG11 />\\n',\n",
       "  '    <MANUAL_IMG12 />\\n',\n",
       "  '    <MANUAL_IMG17 />\\n',\n",
       "  '    <MANUAL_IMG18 />\\n',\n",
       "  '    <MANUAL_IMG19 />\\n',\n",
       "  '    <INFO_FAT>2.4</INFO_FAT>\\n',\n",
       "  '    <HASH_TAG>실곤약</HASH_TAG>\\n',\n",
       "  '    <MANUAL_IMG02>http://www.foodsafetykorea.go.kr/uploadimg/cook/20_00113_4.png</MANUAL_IMG02>\\n',\n",
       "  '    <MANUAL_IMG03>http://www.foodsafetykorea.go.kr/uploadimg/cook/20_00113_6.png</MANUAL_IMG03>\\n',\n",
       "  '    <RCP_PAT2>일품</RCP_PAT2>\\n',\n",
       "  '    <MANUAL_IMG04 />\\n',\n",
       "  '    <MANUAL_IMG05 />\\n',\n",
       "  '    <MANUAL_IMG01>http://www.foodsafetykorea.go.kr/uploadimg/cook/20_00113_1.png</MANUAL_IMG01>\\n',\n",
       "  '    <MANUAL01>1. 검은콩을 1시간 찬물에 담가 불린 후 삶아 익힌 후 불순물을 제거하고 흑임자, 생수, 삶은 콩, 호두를 믹서에 갈아 살엄음이 생기도록 냉동실에 넣는다.</MANUAL01>\\n',\n",
       "  '    <ATT_FILE_NO_MK>http://www.foodsafetykorea.go.kr/uploadimg/cook/10_00113_1.png</ATT_FILE_NO_MK>\\n',\n",
       "  '    <MANUAL_IMG06 />\\n',\n",
       "  '    <MANUAL_IMG07 />\\n',\n",
       "  '    <MANUAL_IMG08 />\\n',\n",
       "  '    <MANUAL_IMG09 />\\n',\n",
       "  '    <MANUAL08 />\\n',\n",
       "  '    <MANUAL09 />\\n',\n",
       "  '    <MANUAL06 />\\n',\n",
       "  '    <MANUAL07 />\\n',\n",
       "  '    <MANUAL04 />\\n',\n",
       "  '    <MANUAL05 />\\n',\n",
       "  '    <MANUAL02>2. 오이는 돌려 깎아 채 썰고, 토마토는 1/8크기로 썰고, 달걀은 삶아 반으로 자른다.</MANUAL02>\\n',\n",
       "  '    <MANUAL03>3. 실곤약은 끓는 물에 데치고 찬물에 헹궈 그릇에 담은 후 콩물을 담고 오이, 토마토, 달걀을 고명으로 올려 완성한다.</MANUAL03>\\n',\n",
       "  '    <ATT_FILE_NO_MAIN>http://www.foodsafetykorea.go.kr/uploadimg/cook/10_00113_2.png</ATT_FILE_NO_MAIN>\\n',\n",
       "  '    <MANUAL11 />\\n',\n",
       "  '    <MANUAL12 />\\n',\n",
       "  '    <MANUAL10 />\\n',\n",
       "  '    <INFO_CAR>4.9</INFO_CAR>\\n',\n",
       "  '    <MANUAL19 />\\n',\n",
       "  '    <RCP_NA_TIP>검은콩은 안토시아닌 색소를 많이 함유하고 있어 시력회복과 항암작용에 좋다. 나트륨 함량이 높은 소면을 대신하여 실곤약으로 면을 대체함으로써 나트륨과 칼로리의 섭취량을 줄이고, 콩국물에 흑임자와 호두를 넣어 짠맛 대신 고소한 맛과 향을 강조한다.</RCP_NA_TIP>\\n',\n",
       "  '    <INFO_ENG>54.3</INFO_ENG>\\n',\n",
       "  '    <MANUAL17 />\\n',\n",
       "  '    <MANUAL18 />\\n',\n",
       "  '    <RCP_NM>블랙빈 곤약국수</RCP_NM>\\n',\n",
       "  '    <MANUAL15 />\\n',\n",
       "  '    <MANUAL16 />\\n',\n",
       "  '    <MANUAL13 />\\n',\n",
       "  '    <MANUAL14 />\\n',\n",
       "  '  </row>\\n',\n",
       "  '  <row id=\"2\">\\n',\n",
       "  '    <RCP_PARTS_DTLS>●주재료 : 소면 50g\\n',\n",
       "  '●육수 : 함초 3g(1/2작은술), 노루궁뎅이버섯 25g(1/2개), 다시마 17g(15cm), 파 140g(1/2개), 양파 150g(1/2개), 무 250g(1/3개), 모시조개 150g(3/4컵), 냉이 35g, 간장 30g(2큰술)\\n',\n",
       "  '●장식 : 달걀 50g(1개), 청고추 20g(1개), 실고추 2g</RCP_PARTS_DTLS>\\n',\n",
       "  '    <RCP_WAY2>끓이기</RCP_WAY2>\\n',\n",
       "  '    <MANUAL_IMG20 />\\n',\n",
       "  '    <MANUAL20 />\\n',\n",
       "  '    <RCP_SEQ>131</RCP_SEQ>\\n',\n",
       "  '    <INFO_NA>34.5</INFO_NA>\\n',\n",
       "  '    <INFO_WGT />\\n',\n",
       "  '    <INFO_PRO>1.8</INFO_PRO>\\n',\n",
       "  '    <MANUAL_IMG13 />\\n',\n",
       "  '    <MANUAL_IMG14 />\\n',\n",
       "  '    <MANUAL_IMG15 />\\n',\n",
       "  '    <MANUAL_IMG16 />\\n',\n",
       "  '    <MANUAL_IMG10 />\\n',\n",
       "  '    <MANUAL_IMG11 />\\n',\n",
       "  '    <MANUAL_IMG12 />\\n',\n",
       "  '    <MANUAL_IMG17 />\\n',\n",
       "  '    <MANUAL_IMG18 />\\n',\n",
       "  '    <MANUAL_IMG19 />\\n',\n",
       "  '    <INFO_FAT>0</INFO_FAT>\\n',\n",
       "  '    <HASH_TAG />\\n',\n",
       "  '    <MANUAL_IMG02>http://www.foodsafetykorea.go.kr/uploadimg/cook/20_00131_4.png</MANUAL_IMG02>\\n',\n",
       "  '    <MANUAL_IMG03>http://www.foodsafetykorea.go.kr/uploadimg/cook/20_00131_5.png</MANUAL_IMG03>\\n',\n",
       "  '    <RCP_PAT2>일품</RCP_PAT2>\\n',\n",
       "  '    <MANUAL_IMG04 />\\n',\n",
       "  '    <MANUAL_IMG05 />\\n',\n",
       "  '    <MANUAL_IMG01>http://www.foodsafetykorea.go.kr/uploadimg/cook/20_00131_1.png</MANUAL_IMG01>\\n',\n",
       "  '    <MANUAL01>1. 함초, 노루궁뎅이버섯, 다시마, 파, 양파, 무를 물에 넣어 10분 끓이고 향이 강한 모시조개와 냉이를 넣고 30분  끓인 후 간장으로 색을 낸다.</MANUAL01>\\n',\n",
       "  '    <ATT_FILE_NO_MK>http://www.foodsafetykorea.go.kr/uploadimg/cook/10_00131_1.png</ATT_FILE_NO_MK>\\n',\n",
       "  '    <MANUAL_IMG06 />\\n',\n",
       "  '    <MANUAL_IMG07 />\\n',\n",
       "  '    <MANUAL_IMG08 />\\n',\n",
       "  '    <MANUAL_IMG09 />\\n',\n",
       "  '    <MANUAL08 />\\n',\n",
       "  '    <MANUAL09 />\\n',\n",
       "  '    <MANUAL06 />\\n',\n",
       "  '    <MANUAL07 />\\n',\n",
       "  '    <MANUAL04 />\\n',\n",
       "  '    <MANUAL05 />\\n',\n",
       "  '    <MANUAL02>2. 소면은 따로 삶는다.</MANUAL02>\\n',\n",
       "  '    <MANUAL03>3. 그릇에 삶은 소면을 담은 후 육수를 붓고 지단, 슬라이스한 청고추, 실고추를 올려 완성한다.</MANUAL03>\\n',\n",
       "  '    <ATT_FILE_NO_MAIN>http://www.foodsafetykorea.go.kr/uploadimg/cook/10_00131_2.png</ATT_FILE_NO_MAIN>\\n',\n",
       "  '    <MANUAL11 />\\n',\n",
       "  '    <MANUAL12 />\\n',\n",
       "  '    <MANUAL10 />\\n',\n",
       "  '    <INFO_CAR>7.1</INFO_CAR>\\n',\n",
       "  '    <MANUAL19 />\\n',\n",
       "  '    <RCP_NA_TIP>냉이에 함유된 비타민A와 비타민C는 소화작용을 용이하게 한다. 소금을 대체하여 함초를 사용하고, 멸치와 모시조개, 다시마 등을 사용하여 감칠맛을 더한다.</RCP_NA_TIP>\\n',\n",
       "  '    <INFO_ENG>35.8</INFO_ENG>\\n',\n",
       "  '    <MANUAL17 />\\n',\n",
       "  '    <MANUAL18 />\\n',\n",
       "  '    <RCP_NM>함초 냉이 국수</RCP_NM>\\n',\n",
       "  '    <MANUAL15 />\\n',\n",
       "  '    <MANUAL16 />\\n',\n",
       "  '    <MANUAL13 />\\n',\n",
       "  '    <MANUAL14 />\\n',\n",
       "  '  </row>\\n',\n",
       "  '  <row id=\"3\">\\n',\n",
       "  '    <RCP_PARTS_DTLS>●주재료 : 감자 100g(1개), 양배추 150g(1/2개), 당근 15g(1/10개), 두부 20g(1/20모), 돼지고기 30g, 청양고추 5g(1개), 부침가루 45g(3큰술), 달걀 60g(1개), 식용유 15g(1큰술)\\n',\n",
       "  '●소스 : 오렌지즙 15g(1큰술), 간장 2g(1/2작은술), 식초 10g(2작은술)</RCP_PARTS_DTLS>\\n',\n",
       "  '    <RCP_WAY2>굽기</RCP_WAY2>\\n',\n",
       "  '    <MANUAL_IMG20 />\\n',\n",
       "  '    <MANUAL20 />\\n',\n",
       "  '    <RCP_SEQ>181</RCP_SEQ>\\n',\n",
       "  '    <INFO_NA>107.1</INFO_NA>\\n',\n",
       "  '    <INFO_WGT />\\n',\n",
       "  '    <INFO_PRO>7.7</INFO_PRO>\\n',\n",
       "  '    <MANUAL_IMG13 />\\n',\n",
       "  '    <MANUAL_IMG14 />\\n',\n",
       "  '    <MANUAL_IMG15 />\\n',\n",
       "  '    <MANUAL_IMG16 />\\n',\n",
       "  '    <MANUAL_IMG10 />\\n',\n",
       "  '    <MANUAL_IMG11 />\\n',\n",
       "  '    <MANUAL_IMG12 />\\n',\n",
       "  '    <MANUAL_IMG17 />\\n',\n",
       "  '    <MANUAL_IMG18 />\\n',\n",
       "  '    <MANUAL_IMG19 />\\n',\n",
       "  '    <INFO_FAT>6.6</INFO_FAT>\\n',\n",
       "  '    <HASH_TAG />\\n',\n",
       "  '    <MANUAL_IMG02>http://www.foodsafetykorea.go.kr/uploadimg/cook/20_00181_5.png</MANUAL_IMG02>\\n',\n",
       "  '    <MANUAL_IMG03>http://www.foodsafetykorea.go.kr/uploadimg/cook/20_00181_6.png</MANUAL_IMG03>\\n',\n",
       "  '    <RCP_PAT2>반찬</RCP_PAT2>\\n',\n",
       "  '    <MANUAL_IMG04 />\\n',\n",
       "  '    <MANUAL_IMG05 />\\n',\n",
       "  '    <MANUAL_IMG01>http://www.foodsafetykorea.go.kr/uploadimg/cook/20_00181_4.png</MANUAL_IMG01>\\n',\n",
       "  '    <MANUAL01>1. 감자는 믹서에 갈고 양배추는 채 썰고 고기, 당근, 청양고추, 두부는 다진다.</MANUAL01>\\n',\n",
       "  '    <ATT_FILE_NO_MK>http://www.foodsafetykorea.go.kr/uploadimg/cook/10_00181_1.png</ATT_FILE_NO_MK>\\n',\n",
       "  '    <MANUAL_IMG06 />\\n',\n",
       "  '    <MANUAL_IMG07 />\\n',\n",
       "  '    <MANUAL_IMG08 />\\n',\n",
       "  '    <MANUAL_IMG09 />\\n',\n",
       "  '    <MANUAL08 />\\n',\n",
       "  '    <MANUAL09 />\\n',\n",
       "  '    <MANUAL06 />\\n',\n",
       "  '    <MANUAL07 />\\n',\n",
       "  '    <MANUAL04 />\\n',\n",
       "  '    <MANUAL05 />\\n',\n",
       "  '    <MANUAL02>2. 준비해둔 재료를 모두 섞고 부침가루와 계란을 넣어 반죽한다.</MANUAL02>\\n',\n",
       "  '    <MANUAL03>3. 가열된 팬에 기름을 두르고 반죽을 부어 굽고 소스를 함께 곁들인다.</MANUAL03>\\n',\n",
       "  '    <ATT_FILE_NO_MAIN>http://www.foodsafetykorea.go.kr/uploadimg/cook/10_00181_2.png</ATT_FILE_NO_MAIN>\\n',\n",
       "  '    <MANUAL11 />\\n',\n",
       "  '    <MANUAL12 />\\n',\n",
       "  '    <MANUAL10 />\\n',\n",
       "  '    <INFO_CAR>14.7</INFO_CAR>\\n',\n",
       "  '    <MANUAL19 />\\n',\n",
       "  '    <RCP_NA_TIP>감자와 양배추에는 칼륨이 풍부하게 들어있어 나트륨 배출에 도움을 준다. 양념간장 대신 과일즙을 활용한 폰즈소스를 곁들여 나트륨 섭취량을 줄였다.</RCP_NA_TIP>\\n',\n",
       "  '    <INFO_ENG>148.9</INFO_ENG>\\n',\n",
       "  '    <MANUAL17 />\\n',\n",
       "  '    <MANUAL18 />\\n',\n",
       "  '    <RCP_NM>양배추감자전</RCP_NM>\\n',\n",
       "  '    <MANUAL15 />\\n',\n",
       "  '    <MANUAL16 />\\n',\n",
       "  '    <MANUAL13 />\\n',\n",
       "  '    <MANUAL14 />\\n',\n",
       "  '  </row>\\n',\n",
       "  '  <row id=\"4\">\\n',\n",
       "  '    <RCP_PARTS_DTLS>재료 닭가슴살(60g), 애호박(30g), 미나리(20g), 청양고추(3g), 두부(60g)\\n',\n",
       "  '김치(120g), 참기름(20g), 느타리버섯(10g), 달걀(50g)\\n',\n",
       "  '육수 다시마(5g), 무(40g), 대파(5g), 양파(10g), 마른 고추(3g), 멸치(10g)\\n',\n",
       "  '마늘(10g), 청주(10g), 물(300g)</RCP_PARTS_DTLS>\\n',\n",
       "  '    <RCP_WAY2>끓이기</RCP_WAY2>\\n',\n",
       "  '    <MANUAL_IMG20 />\\n',\n",
       "  '    <MANUAL20 />\\n',\n",
       "  '    <RCP_SEQ>271</RCP_SEQ>\\n',\n",
       "  '    <INFO_NA>776.6</INFO_NA>\\n',\n",
       "  '    <INFO_WGT />\\n',\n",
       "  '    <INFO_PRO>5.87</INFO_PRO>\\n',\n",
       "  '    <MANUAL_IMG13 />\\n',\n",
       "  '    <MANUAL_IMG14 />\\n',\n",
       "  '    <MANUAL_IMG15 />\\n',\n",
       "  '    <MANUAL_IMG16 />\\n',\n",
       "  '    <MANUAL_IMG10 />\\n',\n",
       "  '    <MANUAL_IMG11 />\\n',\n",
       "  '    <MANUAL_IMG12 />\\n',\n",
       "  '    <MANUAL_IMG17 />\\n',\n",
       "  '    <MANUAL_IMG18 />\\n',\n",
       "  '    <MANUAL_IMG19 />\\n',\n",
       "  '    <INFO_FAT>2.73</INFO_FAT>\\n',\n",
       "  '    <HASH_TAG>가슴살</HASH_TAG>\\n',\n",
       "  '    <MANUAL_IMG02>http://www.foodsafetykorea.go.kr/uploadimg/cook/20_00271_2.png</MANUAL_IMG02>\\n',\n",
       "  '    <MANUAL_IMG03>http://www.foodsafetykorea.go.kr/uploadimg/cook/20_00271_3.png</MANUAL_IMG03>\\n',\n",
       "  '    <RCP_PAT2>국&amp;찌개</RCP_PAT2>\\n',\n",
       "  '    <MANUAL_IMG04>http://www.foodsafetykorea.go.kr/uploadimg/cook/20_00271_4.png</MANUAL_IMG04>\\n',\n",
       "  '    <MANUAL_IMG05>http://www.foodsafetykorea.go.kr/uploadimg/cook/20_00271_5.png</MANUAL_IMG05>\\n',\n",
       "  '    <MANUAL_IMG01>http://www.foodsafetykorea.go.kr/uploadimg/cook/20_00271_1.png</MANUAL_IMG01>\\n',\n",
       "  '    <MANUAL01>1. 육수 재료를 넣고 중간 불로 끓인 뒤\\n',\n",
       "  '체에 걸러 육수를 만든다.</MANUAL01>\\n',\n",
       "  '    <ATT_FILE_NO_MK>http://www.foodsafetykorea.go.kr/uploadimg/cook/10_00271_1.png</ATT_FILE_NO_MK>\\n',\n",
       "  '    <MANUAL_IMG06 />\\n',\n",
       "  '    <MANUAL_IMG07 />\\n',\n",
       "  '    <MANUAL_IMG08 />\\n',\n",
       "  '    <MANUAL_IMG09 />\\n',\n",
       "  '    <MANUAL08 />\\n',\n",
       "  '    <MANUAL09 />\\n',\n",
       "  '    <MANUAL06 />\\n',\n",
       "  '    <MANUAL07 />\\n',\n",
       "  '    <MANUAL04>4. 김치를 한입 크기로 썬 뒤 참기름에\\n',\n",
       "  '볶다가 육수를 붓는다.</MANUAL04>\\n',\n",
       "  '    <MANUAL05>5. 두부, 애호박, 느타리버섯, 미나리,\\n',\n",
       "  '닭가슴살을 넣어 끓어오르면\\n',\n",
       "  '달걀물과 청양고추를 넣고 조금\\n',\n",
       "  '더 끓여 마무리한다.</MANUAL05>\\n',\n",
       "  '    <MANUAL02>2. 닭가슴살은 채 썬 뒤 물에 넣고\\n',\n",
       "  '삶는다.</MANUAL02>\\n',\n",
       "  '    <MANUAL03>3. 애호박은 반달 썰고, 미나리는 5㎝\\n',\n",
       "  '길이로 썰고, 청양고추는 잘게 썬 뒤\\n',\n",
       "  '찬물에 담가 씨를 빼고, 두부는 한입\\n',\n",
       "  '크기로 썰어 물에 담가둔다.</MANUAL03>\\n',\n",
       "  '    <ATT_FILE_NO_MAIN>http://www.foodsafetykorea.go.kr/uploadimg/cook/10_00271_2.png</ATT_FILE_NO_MAIN>\\n',\n",
       "  '    <MANUAL11 />\\n',\n",
       "  '    <MANUAL12 />\\n',\n",
       "  '    <MANUAL10 />\\n',\n",
       "  '    <INFO_CAR>1.79</INFO_CAR>\\n',\n",
       "  '    <MANUAL19 />\\n',\n",
       "  '    <RCP_NA_TIP>멸치다시마육수를 이용해 깊은 맛을 내 소금간을 줄여\\n',\n",
       "  '나트륨 섭취를 적게 할 수 있고, 달걀물을 부어 자극적인 맛을 줄였다.</RCP_NA_TIP>\\n',\n",
       "  '    <INFO_ENG>277.1</INFO_ENG>\\n',\n",
       "  '    <MANUAL17 />\\n',\n",
       "  '    <MANUAL18 />\\n',\n",
       "  '    <RCP_NM>닭고기김치찌개</RCP_NM>\\n',\n",
       "  '    <MANUAL15 />\\n',\n",
       "  '    <MANUAL16 />\\n',\n",
       "  '    <MANUAL13 />\\n',\n",
       "  '    <MANUAL14 />\\n',\n",
       "  '  </row>\\n',\n",
       "  '</COOKRCP01>']]"
      ]
     },
     "execution_count": 198,
     "metadata": {},
     "output_type": "execute_result"
    }
   ],
   "source": [
    "a"
   ]
  },
  {
   "cell_type": "code",
   "execution_count": 3,
   "metadata": {},
   "outputs": [],
   "source": [
    "import requests\n",
    "import pandas as pd"
   ]
  },
  {
   "cell_type": "code",
   "execution_count": 4,
   "metadata": {},
   "outputs": [],
   "source": [
    "a = []\n",
    "url = f'http://openapi.foodsafetykorea.go.kr/api/cc1b2a587a5a42d09890/COOKRCP01/json/1/5/RCP_NM=\"\"&RCP_PARTS_DTLS=\"양파\"'\n",
    "response = requests.get(url)\n",
    "with open(\"./recipe.json\", 'wb') as f:\n",
    "    f.write(response.content)\n"
   ]
  },
  {
   "cell_type": "code",
   "execution_count": 5,
   "metadata": {},
   "outputs": [],
   "source": [
    "a = []"
   ]
  },
  {
   "cell_type": "code",
   "execution_count": 6,
   "metadata": {},
   "outputs": [],
   "source": [
    "j = pd.read_json(\"./recipe.json\")"
   ]
  },
  {
   "cell_type": "code",
   "execution_count": 7,
   "metadata": {},
   "outputs": [],
   "source": [
    "a.append(j)"
   ]
  },
  {
   "cell_type": "code",
   "execution_count": 12,
   "metadata": {},
   "outputs": [
    {
     "name": "stderr",
     "output_type": "stream",
     "text": [
      "/var/folders/fy/h0_mgq7926d7ggr2rkt29cz80000gn/T/ipykernel_57794/2539492068.py:1: FutureWarning: Series.__getitem__ treating keys as positions is deprecated. In a future version, integer keys will always be treated as labels (consistent with DataFrame behavior). To access a value by position, use `ser.iloc[pos]`\n",
      "  a[0]['COOKRCP01'][1][0]\n"
     ]
    },
    {
     "data": {
      "text/plain": [
       "{'RCP_PARTS_DTLS': '●방울토마토 소박이 : \\n방울토마토 150g(5개), 양파 10g(3×1cm), 부추 10g(5줄기)\\n●양념장 : \\n고춧가루 4g(1작은술), 멸치액젓 3g(2/3작은술), 다진 마늘 2.5g(1/2쪽), 매실액 2g(1/3작은술), 설탕 2g(1/3작은술), 물 2ml(1/3작은술), 통깨 약간',\n",
       " 'RCP_WAY2': '기타',\n",
       " 'MANUAL_IMG20': '',\n",
       " 'MANUAL20': '',\n",
       " 'RCP_SEQ': '31',\n",
       " 'INFO_NA': '277',\n",
       " 'INFO_WGT': '',\n",
       " 'INFO_PRO': '2',\n",
       " 'MANUAL_IMG13': '',\n",
       " 'MANUAL_IMG14': '',\n",
       " 'MANUAL_IMG15': '',\n",
       " 'MANUAL_IMG16': '',\n",
       " 'MANUAL_IMG10': '',\n",
       " 'MANUAL_IMG11': '',\n",
       " 'MANUAL_IMG12': '',\n",
       " 'MANUAL_IMG17': '',\n",
       " 'MANUAL_IMG18': '',\n",
       " 'MANUAL_IMG19': '',\n",
       " 'INFO_FAT': '1',\n",
       " 'HASH_TAG': '방울토마토',\n",
       " 'MANUAL_IMG02': 'http://www.foodsafetykorea.go.kr/uploadimg/cook/20_00031_4.png',\n",
       " 'MANUAL_IMG03': 'http://www.foodsafetykorea.go.kr/uploadimg/cook/20_00031_5.png',\n",
       " 'RCP_PAT2': '반찬',\n",
       " 'MANUAL_IMG04': '',\n",
       " 'MANUAL_IMG05': '',\n",
       " 'MANUAL_IMG01': 'http://www.foodsafetykorea.go.kr/uploadimg/cook/20_00031_1.png',\n",
       " 'MANUAL01': '1. 물기를 빼고 2cm 정도의 크기로 썰은 부추와 양파를 양념장에 섞어 양념속을 만든다.',\n",
       " 'ATT_FILE_NO_MK': 'http://www.foodsafetykorea.go.kr/uploadimg/cook/10_00031_1.png',\n",
       " 'MANUAL_IMG06': '',\n",
       " 'MANUAL_IMG07': '',\n",
       " 'MANUAL_IMG08': '',\n",
       " 'MANUAL_IMG09': '',\n",
       " 'MANUAL08': '',\n",
       " 'MANUAL09': '',\n",
       " 'MANUAL06': '',\n",
       " 'MANUAL07': '',\n",
       " 'MANUAL04': '',\n",
       " 'MANUAL05': '',\n",
       " 'MANUAL02': '2. 깨끗이 씻은 방울토마토는 꼭지를 떼고 윗부분에 칼로 십자모양으로 칼집을 낸다.',\n",
       " 'MANUAL03': '3. 칼집을 낸 방울토마토에 양념속을 사이사이에 넣어 버무린다.',\n",
       " 'ATT_FILE_NO_MAIN': 'http://www.foodsafetykorea.go.kr/uploadimg/cook/10_00031_2.png',\n",
       " 'MANUAL11': '',\n",
       " 'MANUAL12': '',\n",
       " 'MANUAL10': '',\n",
       " 'INFO_CAR': '9',\n",
       " 'MANUAL19': '',\n",
       " 'RCP_NA_TIP': '소금에 절이는 오이 대신 방울토마토를 사용하여 나트륨 섭취를 줄였어요. 토마토에는 과일에 대체로 없는 글루탐산이 풍부하여 감칠맛을 내주며, 겉절이 양념과 잘 어우러져 상큼함과 감칠맛을 내주어요.',\n",
       " 'INFO_ENG': '45',\n",
       " 'MANUAL17': '',\n",
       " 'MANUAL18': '',\n",
       " 'RCP_NM': '방울토마토 소박이',\n",
       " 'MANUAL15': '',\n",
       " 'MANUAL16': '',\n",
       " 'MANUAL13': '',\n",
       " 'MANUAL14': ''}"
      ]
     },
     "execution_count": 12,
     "metadata": {},
     "output_type": "execute_result"
    }
   ],
   "source": [
    "a[0]['COOKRCP01'][1][0]"
   ]
  },
  {
   "cell_type": "code",
   "execution_count": 15,
   "metadata": {},
   "outputs": [],
   "source": [
    "url = f'http://openapi.foodsafetykorea.go.kr/api/cc1b2a587a5a42d09890/COOKRCP01/json/1/5/RCP_NM=\"\"&RCP_PARTS_DTLS=\"양파\"'\n",
    "response = requests.get(url)"
   ]
  },
  {
   "cell_type": "code",
   "execution_count": 16,
   "metadata": {},
   "outputs": [],
   "source": [
    "l = []\n",
    "\n",
    "\n",
    "with open(\"./recipe.json\", 'wb') as f:\n",
    "    f.write(response.content)\n",
    "j = pd.read_json(\"./recipe.json\")\n",
    "l.append(j)"
   ]
  },
  {
   "cell_type": "code",
   "execution_count": 28,
   "metadata": {},
   "outputs": [
    {
     "name": "stderr",
     "output_type": "stream",
     "text": [
      "/var/folders/fy/h0_mgq7926d7ggr2rkt29cz80000gn/T/ipykernel_57794/2323999671.py:1: FutureWarning: Series.__getitem__ treating keys as positions is deprecated. In a future version, integer keys will always be treated as labels (consistent with DataFrame behavior). To access a value by position, use `ser.iloc[pos]`\n",
      "  l[0]['COOKRCP01'][1][1]\n"
     ]
    },
    {
     "data": {
      "text/plain": [
       "{'RCP_PARTS_DTLS': '북엇국\\n북어채 25g(15개), 새우 10g(3마리), 사과 30g(1/5개), 양파 40g(1/4개),\\n표고버섯 20g(2장), 물 300ml(1½컵)',\n",
       " 'RCP_WAY2': '끓이기',\n",
       " 'MANUAL_IMG20': '',\n",
       " 'MANUAL20': '',\n",
       " 'RCP_SEQ': '33',\n",
       " 'INFO_NA': '78',\n",
       " 'INFO_WGT': '',\n",
       " 'INFO_PRO': '12',\n",
       " 'MANUAL_IMG13': '',\n",
       " 'MANUAL_IMG14': '',\n",
       " 'MANUAL_IMG15': '',\n",
       " 'MANUAL_IMG16': '',\n",
       " 'MANUAL_IMG10': '',\n",
       " 'MANUAL_IMG11': '',\n",
       " 'MANUAL_IMG12': '',\n",
       " 'MANUAL_IMG17': '',\n",
       " 'MANUAL_IMG18': '',\n",
       " 'MANUAL_IMG19': '',\n",
       " 'INFO_FAT': '1',\n",
       " 'HASH_TAG': '',\n",
       " 'MANUAL_IMG02': 'http://www.foodsafetykorea.go.kr/uploadimg/cook/20_00033_2.png',\n",
       " 'MANUAL_IMG03': 'http://www.foodsafetykorea.go.kr/uploadimg/cook/20_00033_3.png',\n",
       " 'RCP_PAT2': '국&찌개',\n",
       " 'MANUAL_IMG04': '',\n",
       " 'MANUAL_IMG05': 'http://www.foodsafetykorea.go.kr/uploadimg/cook/20_00033_5.png',\n",
       " 'MANUAL_IMG01': '',\n",
       " 'MANUAL01': '',\n",
       " 'ATT_FILE_NO_MK': 'http://www.foodsafetykorea.go.kr/uploadimg/cook/10_00033_1.png',\n",
       " 'MANUAL_IMG06': '',\n",
       " 'MANUAL_IMG07': '',\n",
       " 'MANUAL_IMG08': '',\n",
       " 'MANUAL_IMG09': '',\n",
       " 'MANUAL08': '',\n",
       " 'MANUAL09': '',\n",
       " 'MANUAL06': '',\n",
       " 'MANUAL07': '',\n",
       " 'MANUAL04': '',\n",
       " 'MANUAL05': '5. 그릇에 담아낸다.',\n",
       " 'MANUAL02': '2. 북어채를 잘게 손으로 찢어 찬물에 헹구어 준비한 후 양파, 표고버섯, 사과는 채 썰고 새우는 등쪽의 두세 마디에 꼬챙이를 넣어 내장을 뺀 후 헹군다.',\n",
       " 'MANUAL03': '3. 찬물에 북어채, 새우, 표고버섯, 양파를 넣고 20분 정도 끓인 후 사과를 넣어 북어의 씁쓸한 맛을 없앤다.',\n",
       " 'ATT_FILE_NO_MAIN': 'http://www.foodsafetykorea.go.kr/uploadimg/cook/10_00033_2.png',\n",
       " 'MANUAL11': '',\n",
       " 'MANUAL12': '',\n",
       " 'MANUAL10': '',\n",
       " 'INFO_CAR': '2',\n",
       " 'MANUAL19': '',\n",
       " 'RCP_NA_TIP': '소금과 간장 대신 북어채와 새우의 짠맛으로 간을 한 담백한 맛의 북엇국을 만들었어요. 홍합이나 바지락을 넣으면 시원한 국물을 연출 할 수 있어요.',\n",
       " 'INFO_ENG': '65',\n",
       " 'MANUAL17': '',\n",
       " 'MANUAL18': '',\n",
       " 'RCP_NM': '사과 새우 북엇국',\n",
       " 'MANUAL15': '',\n",
       " 'MANUAL16': '',\n",
       " 'MANUAL13': '',\n",
       " 'MANUAL14': ''}"
      ]
     },
     "execution_count": 28,
     "metadata": {},
     "output_type": "execute_result"
    }
   ],
   "source": [
    "l[0]['COOKRCP01'][1][1]"
   ]
  },
  {
   "cell_type": "code",
   "execution_count": null,
   "metadata": {},
   "outputs": [],
   "source": [
    "<div class=\"col\">\n",
    "              <div class=\"card\">\n",
    "                <img id=\"ATT_FILE_NO_MK\" src=\"{{ data[0]['ATT_FILE_NO_MK'] }}\" class=\"card-img-top\" alt=\"...\">\n",
    "                <div class=\"card-body\">\n",
    "                  <h5 id=\"RCP_NM\" class=\"card-title\"><b>{{ data[0]['RCP_NM'] }}</b></h5>\n",
    "                  <p id=\"RCP_PAT2\">요리 종류 - {{ data[0]['RCP_PAT2'] }}</p>\n",
    "                  <p id=\"INFO_ENG\">열량 - {{ data[0]['INFO_ENG'] }}Kkal</p>\n",
    "                  <p id=\"RCP_PARTS_DTLS\">재료 - {{ data[0]['RCP_PARTS_DTLS'] }}</p>\n",
    "                </div>\n",
    "              </div>\n",
    "            </div>\n",
    "          </div>"
   ]
  },
  {
   "cell_type": "code",
   "execution_count": 29,
   "metadata": {},
   "outputs": [],
   "source": [
    " url = f'http: // openapi.foodsafetykorea.go.kr/api/cc1b2a587a5a42d09890/COOKRCP01/json/1/5/RCP_NM = \"\"'"
   ]
  },
  {
   "cell_type": "code",
   "execution_count": 30,
   "metadata": {},
   "outputs": [
    {
     "data": {
      "text/plain": [
       "'http: // openapi.foodsafetykorea.go.kr/api/cc1b2a587a5a42d09890/COOKRCP01/json/1/5/RCP_NM = \"\"abc'"
      ]
     },
     "execution_count": 30,
     "metadata": {},
     "output_type": "execute_result"
    }
   ],
   "source": [
    "url + \"abc\""
   ]
  },
  {
   "cell_type": "code",
   "execution_count": 31,
   "metadata": {},
   "outputs": [],
   "source": [
    "import requests"
   ]
  },
  {
   "cell_type": "code",
   "execution_count": 34,
   "metadata": {},
   "outputs": [
    {
     "ename": "TypeError",
     "evalue": "'module' object is not callable",
     "output_type": "error",
     "traceback": [
      "\u001b[0;31m---------------------------------------------------------------------------\u001b[0m",
      "\u001b[0;31mTypeError\u001b[0m                                 Traceback (most recent call last)",
      "Cell \u001b[0;32mIn[34], line 1\u001b[0m\n\u001b[0;32m----> 1\u001b[0m \u001b[43mrequests\u001b[49m\u001b[43m(\u001b[49m\u001b[43murl\u001b[49m\u001b[43m)\u001b[49m\n",
      "\u001b[0;31mTypeError\u001b[0m: 'module' object is not callable"
     ]
    }
   ],
   "source": []
  },
  {
   "cell_type": "code",
   "execution_count": 35,
   "metadata": {},
   "outputs": [],
   "source": [
    "l = []"
   ]
  },
  {
   "cell_type": "code",
   "execution_count": 108,
   "metadata": {},
   "outputs": [],
   "source": [
    "base_url = ''\n",
    "\n",
    "response = requests.get('http://openapi.foodsafetykorea.go.kr/api/cc1b2a587a5a42d09890/COOKRCP01/json/1/5/RCP_NM=\"\"&RCP_PARTS_DTLS=\"양파\"')\n",
    "with open(\"./recipe.json\", 'wb') as f:\n",
    "    f.write(response.content)\n",
    "    j = pd.read_json(\"./recipe.json\")\n",
    "    l.append(j)"
   ]
  },
  {
   "cell_type": "code",
   "execution_count": null,
   "metadata": {},
   "outputs": [],
   "source": []
  },
  {
   "cell_type": "code",
   "execution_count": 110,
   "metadata": {},
   "outputs": [
    {
     "name": "stderr",
     "output_type": "stream",
     "text": [
      "/var/folders/fy/h0_mgq7926d7ggr2rkt29cz80000gn/T/ipykernel_57794/2189049031.py:2: FutureWarning: Series.__getitem__ treating keys as positions is deprecated. In a future version, integer keys will always be treated as labels (consistent with DataFrame behavior). To access a value by position, use `ser.iloc[pos]`\n",
      "  data = l[0]['COOKRCP01'][1][0]\n"
     ]
    }
   ],
   "source": [
    "import re\n",
    "data = l[0]['COOKRCP01'][1][0]\n",
    "k = {key: value for key, value in data.items() if re.match(r'^MANUAL\\d+$', key)}\n",
    "o = dict(sorted(k.items()))"
   ]
  },
  {
   "cell_type": "code",
   "execution_count": 111,
   "metadata": {},
   "outputs": [
    {
     "name": "stdout",
     "output_type": "stream",
     "text": [
      "{'RCP_PARTS_DTLS': '●방울토마토 소박이 : \\n방울토마토 150g(5개), 양파 10g(3×1cm), 부추 10g(5줄기)\\n●양념장 : \\n고춧가루 4g(1작은술), 멸치액젓 3g(2/3작은술), 다진 마늘 2.5g(1/2쪽), 매실액 2g(1/3작은술), 설탕 2g(1/3작은술), 물 2ml(1/3작은술), 통깨 약간', 'RCP_WAY2': '기타', 'MANUAL_IMG20': '', 'MANUAL20': '', 'RCP_SEQ': '31', 'INFO_NA': '277', 'INFO_WGT': '', 'INFO_PRO': '2', 'MANUAL_IMG13': '', 'MANUAL_IMG14': '', 'MANUAL_IMG15': '', 'MANUAL_IMG16': '', 'MANUAL_IMG10': '', 'MANUAL_IMG11': '', 'MANUAL_IMG12': '', 'MANUAL_IMG17': '', 'MANUAL_IMG18': '', 'MANUAL_IMG19': '', 'INFO_FAT': '1', 'HASH_TAG': '방울토마토', 'MANUAL_IMG02': 'http://www.foodsafetykorea.go.kr/uploadimg/cook/20_00031_4.png', 'MANUAL_IMG03': 'http://www.foodsafetykorea.go.kr/uploadimg/cook/20_00031_5.png', 'RCP_PAT2': '반찬', 'MANUAL_IMG04': '', 'MANUAL_IMG05': '', 'MANUAL_IMG01': 'http://www.foodsafetykorea.go.kr/uploadimg/cook/20_00031_1.png', 'MANUAL01': '1. 물기를 빼고 2cm 정도의 크기로 썰은 부추와 양파를 양념장에 섞어 양념속을 만든다.', 'ATT_FILE_NO_MK': 'http://www.foodsafetykorea.go.kr/uploadimg/cook/10_00031_1.png', 'MANUAL_IMG06': '', 'MANUAL_IMG07': '', 'MANUAL_IMG08': '', 'MANUAL_IMG09': '', 'MANUAL08': '', 'MANUAL09': '', 'MANUAL06': '', 'MANUAL07': '', 'MANUAL04': '', 'MANUAL05': '', 'MANUAL02': '2. 깨끗이 씻은 방울토마토는 꼭지를 떼고 윗부분에 칼로 십자모양으로 칼집을 낸다.', 'MANUAL03': '3. 칼집을 낸 방울토마토에 양념속을 사이사이에 넣어 버무린다.', 'ATT_FILE_NO_MAIN': 'http://www.foodsafetykorea.go.kr/uploadimg/cook/10_00031_2.png', 'MANUAL11': '', 'MANUAL12': '', 'MANUAL10': '', 'INFO_CAR': '9', 'MANUAL19': '', 'RCP_NA_TIP': '소금에 절이는 오이 대신 방울토마토를 사용하여 나트륨 섭취를 줄였어요. 토마토에는 과일에 대체로 없는 글루탐산이 풍부하여 감칠맛을 내주며, 겉절이 양념과 잘 어우러져 상큼함과 감칠맛을 내주어요.', 'INFO_ENG': '45', 'MANUAL17': '', 'MANUAL18': '', 'RCP_NM': '방울토마토 소박이', 'MANUAL15': '', 'MANUAL16': '', 'MANUAL13': '', 'MANUAL14': ''}\n"
     ]
    }
   ],
   "source": [
    "print(data)"
   ]
  },
  {
   "cell_type": "code",
   "execution_count": 112,
   "metadata": {},
   "outputs": [
    {
     "name": "stdout",
     "output_type": "stream",
     "text": [
      "1. 물기를 빼고 2cm 정도의 크기로 썰은 부추와 양파를 양념장에 섞어 양념속을 만든다.\n",
      "2. 깨끗이 씻은 방울토마토는 꼭지를 떼고 윗부분에 칼로 십자모양으로 칼집을 낸다.\n",
      "3. 칼집을 낸 방울토마토에 양념속을 사이사이에 넣어 버무린다.\n"
     ]
    }
   ],
   "source": [
    "\n",
    "\n",
    "        print(o[i])"
   ]
  },
  {
   "cell_type": "code",
   "execution_count": 97,
   "metadata": {},
   "outputs": [
    {
     "data": {
      "text/plain": [
       "{'MANUAL01': '1. 물기를 빼고 2cm 정도의 크기로 썰은 부추와 양파를 양념장에 섞어 양념속을 만든다.',\n",
       " 'MANUAL02': '2. 깨끗이 씻은 방울토마토는 꼭지를 떼고 윗부분에 칼로 십자모양으로 칼집을 낸다.',\n",
       " 'MANUAL03': '3. 칼집을 낸 방울토마토에 양념속을 사이사이에 넣어 버무린다.',\n",
       " 'MANUAL04': '',\n",
       " 'MANUAL05': '',\n",
       " 'MANUAL06': '',\n",
       " 'MANUAL07': '',\n",
       " 'MANUAL08': '',\n",
       " 'MANUAL09': '',\n",
       " 'MANUAL10': '',\n",
       " 'MANUAL11': '',\n",
       " 'MANUAL12': '',\n",
       " 'MANUAL13': '',\n",
       " 'MANUAL14': '',\n",
       " 'MANUAL15': '',\n",
       " 'MANUAL16': '',\n",
       " 'MANUAL17': '',\n",
       " 'MANUAL18': '',\n",
       " 'MANUAL19': '',\n",
       " 'MANUAL20': ''}"
      ]
     },
     "execution_count": 97,
     "metadata": {},
     "output_type": "execute_result"
    }
   ],
   "source": [
    "o"
   ]
  },
  {
   "cell_type": "code",
   "execution_count": 105,
   "metadata": {},
   "outputs": [
    {
     "name": "stdout",
     "output_type": "stream",
     "text": [
      "1. 물기를 빼고 2cm 정도의 크기로 썰은 부추와 양파를 양념장에 섞어 양념속을 만든다.\n",
      "2. 깨끗이 씻은 방울토마토는 꼭지를 떼고 윗부분에 칼로 십자모양으로 칼집을 낸다.\n",
      "3. 칼집을 낸 방울토마토에 양념속을 사이사이에 넣어 버무린다.\n"
     ]
    }
   ],
   "source": []
  },
  {
   "cell_type": "code",
   "execution_count": 69,
   "metadata": {},
   "outputs": [
    {
     "data": {
      "text/plain": [
       "('MANUAL03', '3. 칼집을 낸 방울토마토에 양념속을 사이사이에 넣어 버무린다.')"
      ]
     },
     "execution_count": 69,
     "metadata": {},
     "output_type": "execute_result"
    }
   ],
   "source": [
    "o[2]"
   ]
  },
  {
   "cell_type": "code",
   "execution_count": 75,
   "metadata": {},
   "outputs": [
    {
     "name": "stdout",
     "output_type": "stream",
     "text": [
      "1. 물기를 빼고 2cm 정도의 크기로 썰은 부추와 양파를 양념장에 섞어 양념속을 만든다.\n",
      "2. 깨끗이 씻은 방울토마토는 꼭지를 떼고 윗부분에 칼로 십자모양으로 칼집을 낸다.\n",
      "3. 칼집을 낸 방울토마토에 양념속을 사이사이에 넣어 버무린다.\n"
     ]
    }
   ],
   "source": []
  },
  {
   "cell_type": "code",
   "execution_count": null,
   "metadata": {},
   "outputs": [],
   "source": []
  }
 ],
 "metadata": {
  "kernelspec": {
   "display_name": "Python 3",
   "language": "python",
   "name": "python3"
  },
  "language_info": {
   "codemirror_mode": {
    "name": "ipython",
    "version": 3
   },
   "file_extension": ".py",
   "mimetype": "text/x-python",
   "name": "python",
   "nbconvert_exporter": "python",
   "pygments_lexer": "ipython3",
   "version": "3.11.9"
  }
 },
 "nbformat": 4,
 "nbformat_minor": 2
}
